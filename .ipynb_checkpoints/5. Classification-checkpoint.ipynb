{
 "cells": [
  {
   "cell_type": "markdown",
   "id": "a3515313",
   "metadata": {},
   "source": [
    "# Classification"
   ]
  },
  {
   "cell_type": "code",
   "execution_count": 1,
   "id": "4071634c",
   "metadata": {},
   "outputs": [],
   "source": [
    "import pandas as pd\n",
    "import numpy as np"
   ]
  },
  {
   "cell_type": "code",
   "execution_count": 2,
   "id": "37c60258",
   "metadata": {},
   "outputs": [
    {
     "data": {
      "text/html": [
       "<div>\n",
       "<style scoped>\n",
       "    .dataframe tbody tr th:only-of-type {\n",
       "        vertical-align: middle;\n",
       "    }\n",
       "\n",
       "    .dataframe tbody tr th {\n",
       "        vertical-align: top;\n",
       "    }\n",
       "\n",
       "    .dataframe thead th {\n",
       "        text-align: right;\n",
       "    }\n",
       "</style>\n",
       "<table border=\"1\" class=\"dataframe\">\n",
       "  <thead>\n",
       "    <tr style=\"text-align: right;\">\n",
       "      <th></th>\n",
       "      <th>Loan Status</th>\n",
       "      <th>Current Loan Amount</th>\n",
       "      <th>Credit Score</th>\n",
       "      <th>Annual Income</th>\n",
       "      <th>Monthly Debt</th>\n",
       "      <th>Years of Credit History</th>\n",
       "      <th>Number of Open Accounts</th>\n",
       "      <th>Number of Credit Problems</th>\n",
       "      <th>Current Credit Balance</th>\n",
       "      <th>Maximum Open Credit</th>\n",
       "      <th>...</th>\n",
       "      <th>Purpose_Business Loan</th>\n",
       "      <th>Purpose_Buy House</th>\n",
       "      <th>Purpose_Buy a Car</th>\n",
       "      <th>Purpose_Debt Consolidation</th>\n",
       "      <th>Purpose_Educational Expenses</th>\n",
       "      <th>Purpose_Home Improvements</th>\n",
       "      <th>Purpose_Medical Bills</th>\n",
       "      <th>Purpose_Other</th>\n",
       "      <th>Purpose_Take a Trip</th>\n",
       "      <th>Purpose_other</th>\n",
       "    </tr>\n",
       "  </thead>\n",
       "  <tbody>\n",
       "    <tr>\n",
       "      <th>0</th>\n",
       "      <td>Fully Paid</td>\n",
       "      <td>11520.0</td>\n",
       "      <td>741.0</td>\n",
       "      <td>33694.0</td>\n",
       "      <td>584.03</td>\n",
       "      <td>12.3</td>\n",
       "      <td>10</td>\n",
       "      <td>0</td>\n",
       "      <td>6760</td>\n",
       "      <td>16056.0</td>\n",
       "      <td>...</td>\n",
       "      <td>0</td>\n",
       "      <td>0</td>\n",
       "      <td>0</td>\n",
       "      <td>1</td>\n",
       "      <td>0</td>\n",
       "      <td>0</td>\n",
       "      <td>0</td>\n",
       "      <td>0</td>\n",
       "      <td>0</td>\n",
       "      <td>0</td>\n",
       "    </tr>\n",
       "    <tr>\n",
       "      <th>1</th>\n",
       "      <td>Fully Paid</td>\n",
       "      <td>3441.0</td>\n",
       "      <td>734.0</td>\n",
       "      <td>42269.0</td>\n",
       "      <td>1106.04</td>\n",
       "      <td>26.3</td>\n",
       "      <td>17</td>\n",
       "      <td>0</td>\n",
       "      <td>6262</td>\n",
       "      <td>19149.0</td>\n",
       "      <td>...</td>\n",
       "      <td>0</td>\n",
       "      <td>0</td>\n",
       "      <td>0</td>\n",
       "      <td>0</td>\n",
       "      <td>0</td>\n",
       "      <td>0</td>\n",
       "      <td>0</td>\n",
       "      <td>0</td>\n",
       "      <td>0</td>\n",
       "      <td>1</td>\n",
       "    </tr>\n",
       "    <tr>\n",
       "      <th>2</th>\n",
       "      <td>Fully Paid</td>\n",
       "      <td>21029.0</td>\n",
       "      <td>747.0</td>\n",
       "      <td>90126.0</td>\n",
       "      <td>1321.85</td>\n",
       "      <td>28.8</td>\n",
       "      <td>5</td>\n",
       "      <td>0</td>\n",
       "      <td>20967</td>\n",
       "      <td>28335.0</td>\n",
       "      <td>...</td>\n",
       "      <td>0</td>\n",
       "      <td>0</td>\n",
       "      <td>0</td>\n",
       "      <td>1</td>\n",
       "      <td>0</td>\n",
       "      <td>0</td>\n",
       "      <td>0</td>\n",
       "      <td>0</td>\n",
       "      <td>0</td>\n",
       "      <td>0</td>\n",
       "    </tr>\n",
       "    <tr>\n",
       "      <th>3</th>\n",
       "      <td>Fully Paid</td>\n",
       "      <td>18743.0</td>\n",
       "      <td>747.0</td>\n",
       "      <td>38072.0</td>\n",
       "      <td>751.92</td>\n",
       "      <td>26.2</td>\n",
       "      <td>9</td>\n",
       "      <td>0</td>\n",
       "      <td>22529</td>\n",
       "      <td>43915.0</td>\n",
       "      <td>...</td>\n",
       "      <td>0</td>\n",
       "      <td>0</td>\n",
       "      <td>0</td>\n",
       "      <td>1</td>\n",
       "      <td>0</td>\n",
       "      <td>0</td>\n",
       "      <td>0</td>\n",
       "      <td>0</td>\n",
       "      <td>0</td>\n",
       "      <td>0</td>\n",
       "    </tr>\n",
       "    <tr>\n",
       "      <th>4</th>\n",
       "      <td>Fully Paid</td>\n",
       "      <td>11731.0</td>\n",
       "      <td>746.0</td>\n",
       "      <td>50025.0</td>\n",
       "      <td>355.18</td>\n",
       "      <td>11.5</td>\n",
       "      <td>12</td>\n",
       "      <td>0</td>\n",
       "      <td>17391</td>\n",
       "      <td>37081.0</td>\n",
       "      <td>...</td>\n",
       "      <td>0</td>\n",
       "      <td>0</td>\n",
       "      <td>0</td>\n",
       "      <td>1</td>\n",
       "      <td>0</td>\n",
       "      <td>0</td>\n",
       "      <td>0</td>\n",
       "      <td>0</td>\n",
       "      <td>0</td>\n",
       "      <td>0</td>\n",
       "    </tr>\n",
       "  </tbody>\n",
       "</table>\n",
       "<p>5 rows × 39 columns</p>\n",
       "</div>"
      ],
      "text/plain": [
       "  Loan Status  Current Loan Amount  Credit Score  Annual Income  Monthly Debt  \\\n",
       "0  Fully Paid              11520.0         741.0        33694.0        584.03   \n",
       "1  Fully Paid               3441.0         734.0        42269.0       1106.04   \n",
       "2  Fully Paid              21029.0         747.0        90126.0       1321.85   \n",
       "3  Fully Paid              18743.0         747.0        38072.0        751.92   \n",
       "4  Fully Paid              11731.0         746.0        50025.0        355.18   \n",
       "\n",
       "   Years of Credit History  Number of Open Accounts  \\\n",
       "0                     12.3                       10   \n",
       "1                     26.3                       17   \n",
       "2                     28.8                        5   \n",
       "3                     26.2                        9   \n",
       "4                     11.5                       12   \n",
       "\n",
       "   Number of Credit Problems  Current Credit Balance  Maximum Open Credit  \\\n",
       "0                          0                    6760              16056.0   \n",
       "1                          0                    6262              19149.0   \n",
       "2                          0                   20967              28335.0   \n",
       "3                          0                   22529              43915.0   \n",
       "4                          0                   17391              37081.0   \n",
       "\n",
       "   ...  Purpose_Business Loan  Purpose_Buy House  Purpose_Buy a Car  \\\n",
       "0  ...                      0                  0                  0   \n",
       "1  ...                      0                  0                  0   \n",
       "2  ...                      0                  0                  0   \n",
       "3  ...                      0                  0                  0   \n",
       "4  ...                      0                  0                  0   \n",
       "\n",
       "   Purpose_Debt Consolidation  Purpose_Educational Expenses  \\\n",
       "0                           1                             0   \n",
       "1                           0                             0   \n",
       "2                           1                             0   \n",
       "3                           1                             0   \n",
       "4                           1                             0   \n",
       "\n",
       "   Purpose_Home Improvements  Purpose_Medical Bills  Purpose_Other  \\\n",
       "0                          0                      0              0   \n",
       "1                          0                      0              0   \n",
       "2                          0                      0              0   \n",
       "3                          0                      0              0   \n",
       "4                          0                      0              0   \n",
       "\n",
       "   Purpose_Take a Trip  Purpose_other  \n",
       "0                    0              0  \n",
       "1                    0              1  \n",
       "2                    0              0  \n",
       "3                    0              0  \n",
       "4                    0              0  \n",
       "\n",
       "[5 rows x 39 columns]"
      ]
     },
     "execution_count": 2,
     "metadata": {},
     "output_type": "execute_result"
    }
   ],
   "source": [
    "df=pd.read_csv('df_new_dummies.csv')\n",
    "df.head()"
   ]
  },
  {
   "cell_type": "markdown",
   "id": "81f4fdcd",
   "metadata": {},
   "source": [
    "## 1. Classification with all available variables"
   ]
  },
  {
   "cell_type": "code",
   "execution_count": 7,
   "id": "db691ebe",
   "metadata": {},
   "outputs": [],
   "source": [
    "from sklearn.model_selection import train_test_split\n",
    "from sklearn.linear_model import LogisticRegression\n",
    "from sklearn.model_selection import GridSearchCV"
   ]
  },
  {
   "cell_type": "code",
   "execution_count": 8,
   "id": "24921175",
   "metadata": {},
   "outputs": [],
   "source": [
    "X=df.drop(['Loan Status'], axis=1)\n",
    "y=df['Loan Status']"
   ]
  },
  {
   "cell_type": "code",
   "execution_count": 9,
   "id": "2a1551dc",
   "metadata": {},
   "outputs": [],
   "source": [
    "X_train, X_test, y_train, y_test = train_test_split(X, y, test_size=0.2, random_state=42)"
   ]
  },
  {
   "cell_type": "code",
   "execution_count": 10,
   "id": "91e0369f",
   "metadata": {},
   "outputs": [],
   "source": [
    "c_space = np.logspace(-5, 8, 15)\n",
    "param_grid={'C': c_space, 'penalty':['l2']} # [l1,'l2']\n",
    "logreg = LogisticRegression(max_iter=10000)\n",
    "logreg_cv = GridSearchCV(logreg, param_grid, cv=5);\n",
    "logreg_cv.fit(X_train, y_train);"
   ]
  },
  {
   "cell_type": "code",
   "execution_count": 11,
   "id": "68454b99",
   "metadata": {},
   "outputs": [
    {
     "data": {
      "text/plain": [
       "{'C': 0.0007196856730011522, 'penalty': 'l2'}"
      ]
     },
     "execution_count": 11,
     "metadata": {},
     "output_type": "execute_result"
    }
   ],
   "source": [
    "logreg_cv.best_params_"
   ]
  },
  {
   "cell_type": "code",
   "execution_count": 12,
   "id": "a687c25c",
   "metadata": {},
   "outputs": [
    {
     "data": {
      "text/plain": [
       "0.7212277894045714"
      ]
     },
     "execution_count": 12,
     "metadata": {},
     "output_type": "execute_result"
    }
   ],
   "source": [
    "logreg_cv.best_score_"
   ]
  },
  {
   "cell_type": "code",
   "execution_count": 13,
   "id": "267a70fb",
   "metadata": {},
   "outputs": [],
   "source": [
    "best_model = logreg_cv.best_estimator_"
   ]
  },
  {
   "cell_type": "code",
   "execution_count": 14,
   "id": "567a0b15",
   "metadata": {},
   "outputs": [],
   "source": [
    "y_pred = best_model.predict(X_test)"
   ]
  },
  {
   "cell_type": "code",
   "execution_count": 15,
   "id": "a5f56a44",
   "metadata": {},
   "outputs": [],
   "source": [
    "y_pred_proba=best_model.predict_proba(X_test)"
   ]
  },
  {
   "cell_type": "code",
   "execution_count": 16,
   "id": "bd64a205",
   "metadata": {},
   "outputs": [],
   "source": [
    "# wrestle data to create plots:\n",
    "# here I create two subsets of probabilities, one for cases that were 'Fully Paid' and \n",
    "# correctly identified as such, and one for 'Charged Off' and correctly identified as such\n",
    "pred_proba_df=pd.DataFrame(data=y_pred_proba, columns=['Charged Off','Fully Paid'])\n",
    "pred_proba_df['True']=y_test.values\n",
    "\n",
    "subset_1=pred_proba_df[pred_proba_df['True']=='Fully Paid']['Fully Paid']\n",
    "subset_2=pred_proba_df[pred_proba_df['True']=='Charged Off']['Charged Off']"
   ]
  },
  {
   "cell_type": "code",
   "execution_count": 17,
   "id": "ca9a4f4f",
   "metadata": {},
   "outputs": [],
   "source": [
    "import matplotlib.pyplot as plt\n",
    "import seaborn as sns\n",
    "import numpy as np\n",
    "import numpy.random as nr\n",
    "import math\n",
    "\n",
    "%matplotlib inline"
   ]
  },
  {
   "cell_type": "code",
   "execution_count": 18,
   "id": "12d09ca9",
   "metadata": {},
   "outputs": [
    {
     "data": {
      "image/png": "[encoded data removed]",
      "text/plain": [
       "<Figure size 640x480 with 1 Axes>"
      ]
     },
     "metadata": {
      "needs_background": "light"
     },
     "output_type": "display_data"
    }
   ],
   "source": [
    "from matplotlib.pyplot import figure\n",
    "\n",
    "figure(figsize=(8, 6), dpi=80)\n",
    "bins = np.linspace(-0.5, 1.5, 20)\n",
    "\n",
    "plt.hist(subset_1, bins, color=\"b\", alpha=0.5, label='Fully Paid')\n",
    "plt.hist(subset_2, bins, color=\"k\",alpha=0.5,label='Charged Off')\n",
    "plt.legend(loc='upper right')\n",
    "plt.show()"
   ]
  },
  {
   "cell_type": "code",
   "execution_count": 20,
   "id": "fd69af79",
   "metadata": {},
   "outputs": [
    {
     "data": {
      "text/plain": [
       "array([[ 3588,  7860],\n",
       "       [  585, 18429]], dtype=int64)"
      ]
     },
     "execution_count": 20,
     "metadata": {},
     "output_type": "execute_result"
    }
   ],
   "source": [
    "from sklearn.metrics import confusion_matrix, classification_report\n",
    "confusion_matrix(y_test, y_pred)"
   ]
  },
  {
   "cell_type": "code",
   "execution_count": 21,
   "id": "d47147a4",
   "metadata": {},
   "outputs": [
    {
     "name": "stdout",
     "output_type": "stream",
     "text": [
      "              precision    recall  f1-score   support\n",
      "\n",
      " Charged Off       0.86      0.31      0.46     11448\n",
      "  Fully Paid       0.70      0.97      0.81     19014\n",
      "\n",
      "    accuracy                           0.72     30462\n",
      "   macro avg       0.78      0.64      0.64     30462\n",
      "weighted avg       0.76      0.72      0.68     30462\n",
      "\n"
     ]
    }
   ],
   "source": [
    "print(classification_report(y_test, y_pred))"
   ]
  },
  {
   "cell_type": "markdown",
   "id": "ca127595",
   "metadata": {},
   "source": [
    "### Addition of categorial variables as dummies did not improve the model. In fact, the confusion matrix contains three less correctly identified 'Charged Off' cases"
   ]
  },
  {
   "cell_type": "markdown",
   "id": "a0ed4ee0",
   "metadata": {},
   "source": [
    "## 2. Remove 'unimportant' numerical variables"
   ]
  },
  {
   "cell_type": "code",
   "execution_count": 23,
   "id": "de93b86f",
   "metadata": {},
   "outputs": [],
   "source": [
    "X=X.drop(['Number of Open Accounts', 'Current Credit Balance', 'Number of Credit Problems', 'Bankruptcies', 'Tax Liens'], axis =1)"
   ]
  },
  {
   "cell_type": "code",
   "execution_count": 24,
   "id": "b59c0100",
   "metadata": {},
   "outputs": [],
   "source": [
    "X_train, X_test, y_train, y_test = train_test_split(X, y, test_size=0.2, random_state=42)"
   ]
  },
  {
   "cell_type": "code",
   "execution_count": 25,
   "id": "985725a3",
   "metadata": {},
   "outputs": [],
   "source": [
    "c_space = np.logspace(-5, 8, 15)\n",
    "param_grid={'C': c_space, 'penalty':['l2']} # [l1,'l2']\n",
    "logreg = LogisticRegression(max_iter=10000)\n",
    "logreg_cv = GridSearchCV(logreg, param_grid, cv=5);\n",
    "logreg_cv.fit(X_train, y_train);"
   ]
  },
  {
   "cell_type": "code",
   "execution_count": 26,
   "id": "fdc16805",
   "metadata": {},
   "outputs": [
    {
     "data": {
      "text/plain": [
       "{'C': 0.006105402296585327, 'penalty': 'l2'}"
      ]
     },
     "execution_count": 26,
     "metadata": {},
     "output_type": "execute_result"
    }
   ],
   "source": [
    "logreg_cv.best_params_"
   ]
  },
  {
   "cell_type": "code",
   "execution_count": 27,
   "id": "739bbd13",
   "metadata": {},
   "outputs": [
    {
     "data": {
      "text/plain": [
       "0.7203824531166646"
      ]
     },
     "execution_count": 27,
     "metadata": {},
     "output_type": "execute_result"
    }
   ],
   "source": [
    "logreg_cv.best_score_"
   ]
  },
  {
   "cell_type": "code",
   "execution_count": 28,
   "id": "b4f76a65",
   "metadata": {},
   "outputs": [],
   "source": [
    "best_model = logreg_cv.best_estimator_"
   ]
  },
  {
   "cell_type": "code",
   "execution_count": 29,
   "id": "7b447e21",
   "metadata": {},
   "outputs": [],
   "source": [
    "y_pred = best_model.predict(X_test)"
   ]
  },
  {
   "cell_type": "code",
   "execution_count": 30,
   "id": "403a7569",
   "metadata": {},
   "outputs": [],
   "source": [
    "y_pred_proba=best_model.predict_proba(X_test)"
   ]
  },
  {
   "cell_type": "code",
   "execution_count": 31,
   "id": "b761605e",
   "metadata": {},
   "outputs": [],
   "source": [
    "# wrestle data to create plots:\n",
    "# here I create two subsets of probabilities, one for cases that were 'Fully Paid' and \n",
    "# correctly identified as such, and one for 'Charged Off' and correctly identified as such\n",
    "pred_proba_df=pd.DataFrame(data=y_pred_proba, columns=['Charged Off','Fully Paid'])\n",
    "pred_proba_df['True']=y_test.values\n",
    "\n",
    "subset_1=pred_proba_df[pred_proba_df['True']=='Fully Paid']['Fully Paid']\n",
    "subset_2=pred_proba_df[pred_proba_df['True']=='Charged Off']['Charged Off']"
   ]
  },
  {
   "cell_type": "code",
   "execution_count": 32,
   "id": "a606982a",
   "metadata": {},
   "outputs": [
    {
     "data": {
      "image/png": "[encoded data removed]",
      "text/plain": [
       "<Figure size 640x480 with 1 Axes>"
      ]
     },
     "metadata": {
      "needs_background": "light"
     },
     "output_type": "display_data"
    }
   ],
   "source": [
    "figure(figsize=(8, 6), dpi=80)\n",
    "bins = np.linspace(-0.5, 1.5, 20)\n",
    "\n",
    "plt.hist(subset_1, bins, color=\"b\", alpha=0.5, label='Fully Paid')\n",
    "plt.hist(subset_2, bins, color=\"k\",alpha=0.5,label='Charged Off')\n",
    "plt.legend(loc='upper right')\n",
    "plt.show()"
   ]
  },
  {
   "cell_type": "code",
   "execution_count": 33,
   "id": "b49a3cff",
   "metadata": {},
   "outputs": [
    {
     "data": {
      "text/plain": [
       "array([[ 3707,  7741],\n",
       "       [  748, 18266]], dtype=int64)"
      ]
     },
     "execution_count": 33,
     "metadata": {},
     "output_type": "execute_result"
    }
   ],
   "source": [
    "confusion_matrix(y_test, y_pred)"
   ]
  },
  {
   "cell_type": "code",
   "execution_count": 34,
   "id": "5917b680",
   "metadata": {},
   "outputs": [
    {
     "name": "stdout",
     "output_type": "stream",
     "text": [
      "              precision    recall  f1-score   support\n",
      "\n",
      " Charged Off       0.83      0.32      0.47     11448\n",
      "  Fully Paid       0.70      0.96      0.81     19014\n",
      "\n",
      "    accuracy                           0.72     30462\n",
      "   macro avg       0.77      0.64      0.64     30462\n",
      "weighted avg       0.75      0.72      0.68     30462\n",
      "\n"
     ]
    }
   ],
   "source": [
    "print(classification_report(y_test, y_pred))"
   ]
  },
  {
   "cell_type": "code",
   "execution_count": 35,
   "id": "2231f4ae",
   "metadata": {},
   "outputs": [],
   "source": [
    "### F1 score for Charged Off has slightly improved"
   ]
  },
  {
   "cell_type": "code",
   "execution_count": null,
   "id": "e2531f74",
   "metadata": {},
   "outputs": [],
   "source": []
  }
 ],
 "metadata": {
  "kernelspec": {
   "display_name": "Python 3",
   "language": "python",
   "name": "python3"
  },
  "language_info": {
   "codemirror_mode": {
    "name": "ipython",
    "version": 3
   },
   "file_extension": ".py",
   "mimetype": "text/x-python",
   "name": "python",
   "nbconvert_exporter": "python",
   "pygments_lexer": "ipython3",
   "version": "3.8.8"
  }
 },
 "nbformat": 4,
 "nbformat_minor": 5
}
