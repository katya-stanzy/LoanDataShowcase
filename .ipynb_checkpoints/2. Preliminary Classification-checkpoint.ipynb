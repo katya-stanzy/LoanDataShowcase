{
 "cells": [
  {
   "cell_type": "markdown",
   "id": "a5c76a95",
   "metadata": {},
   "source": [
    "# Loan Data - Classification Using Numerical Variables Only"
   ]
  },
  {
   "cell_type": "code",
   "execution_count": 1,
   "id": "d6859e0a",
   "metadata": {},
   "outputs": [],
   "source": [
    "import pandas as pd\n",
    "import numpy as np"
   ]
  },
  {
   "cell_type": "code",
   "execution_count": 2,
   "id": "a661ff4d",
   "metadata": {},
   "outputs": [
    {
     "data": {
      "text/html": [
       "<div>\n",
       "<style scoped>\n",
       "    .dataframe tbody tr th:only-of-type {\n",
       "        vertical-align: middle;\n",
       "    }\n",
       "\n",
       "    .dataframe tbody tr th {\n",
       "        vertical-align: top;\n",
       "    }\n",
       "\n",
       "    .dataframe thead th {\n",
       "        text-align: right;\n",
       "    }\n",
       "</style>\n",
       "<table border=\"1\" class=\"dataframe\">\n",
       "  <thead>\n",
       "    <tr style=\"text-align: right;\">\n",
       "      <th></th>\n",
       "      <th>Loan Status</th>\n",
       "      <th>Current Loan Amount</th>\n",
       "      <th>Term</th>\n",
       "      <th>Credit Score</th>\n",
       "      <th>Years in current job</th>\n",
       "      <th>Home Ownership</th>\n",
       "      <th>Annual Income</th>\n",
       "      <th>Purpose</th>\n",
       "      <th>Monthly Debt</th>\n",
       "      <th>Years of Credit History</th>\n",
       "      <th>Number of Open Accounts</th>\n",
       "      <th>Number of Credit Problems</th>\n",
       "      <th>Current Credit Balance</th>\n",
       "      <th>Maximum Open Credit</th>\n",
       "      <th>Bankruptcies</th>\n",
       "      <th>Tax Liens</th>\n",
       "    </tr>\n",
       "  </thead>\n",
       "  <tbody>\n",
       "    <tr>\n",
       "      <th>0</th>\n",
       "      <td>Fully Paid</td>\n",
       "      <td>11520.0</td>\n",
       "      <td>Short Term</td>\n",
       "      <td>741.0</td>\n",
       "      <td>10+ years</td>\n",
       "      <td>Home Mortgage</td>\n",
       "      <td>33694.0</td>\n",
       "      <td>Debt Consolidation</td>\n",
       "      <td>584.03</td>\n",
       "      <td>12.3</td>\n",
       "      <td>10</td>\n",
       "      <td>0</td>\n",
       "      <td>6760</td>\n",
       "      <td>16056.0</td>\n",
       "      <td>0.0</td>\n",
       "      <td>0.0</td>\n",
       "    </tr>\n",
       "    <tr>\n",
       "      <th>1</th>\n",
       "      <td>Fully Paid</td>\n",
       "      <td>3441.0</td>\n",
       "      <td>Short Term</td>\n",
       "      <td>734.0</td>\n",
       "      <td>4 years</td>\n",
       "      <td>Home Mortgage</td>\n",
       "      <td>42269.0</td>\n",
       "      <td>other</td>\n",
       "      <td>1106.04</td>\n",
       "      <td>26.3</td>\n",
       "      <td>17</td>\n",
       "      <td>0</td>\n",
       "      <td>6262</td>\n",
       "      <td>19149.0</td>\n",
       "      <td>0.0</td>\n",
       "      <td>0.0</td>\n",
       "    </tr>\n",
       "    <tr>\n",
       "      <th>2</th>\n",
       "      <td>Fully Paid</td>\n",
       "      <td>21029.0</td>\n",
       "      <td>Short Term</td>\n",
       "      <td>747.0</td>\n",
       "      <td>10+ years</td>\n",
       "      <td>Home Mortgage</td>\n",
       "      <td>90126.0</td>\n",
       "      <td>Debt Consolidation</td>\n",
       "      <td>1321.85</td>\n",
       "      <td>28.8</td>\n",
       "      <td>5</td>\n",
       "      <td>0</td>\n",
       "      <td>20967</td>\n",
       "      <td>28335.0</td>\n",
       "      <td>0.0</td>\n",
       "      <td>0.0</td>\n",
       "    </tr>\n",
       "    <tr>\n",
       "      <th>3</th>\n",
       "      <td>Fully Paid</td>\n",
       "      <td>18743.0</td>\n",
       "      <td>Short Term</td>\n",
       "      <td>747.0</td>\n",
       "      <td>10+ years</td>\n",
       "      <td>Own Home</td>\n",
       "      <td>38072.0</td>\n",
       "      <td>Debt Consolidation</td>\n",
       "      <td>751.92</td>\n",
       "      <td>26.2</td>\n",
       "      <td>9</td>\n",
       "      <td>0</td>\n",
       "      <td>22529</td>\n",
       "      <td>43915.0</td>\n",
       "      <td>0.0</td>\n",
       "      <td>0.0</td>\n",
       "    </tr>\n",
       "    <tr>\n",
       "      <th>4</th>\n",
       "      <td>Fully Paid</td>\n",
       "      <td>11731.0</td>\n",
       "      <td>Short Term</td>\n",
       "      <td>746.0</td>\n",
       "      <td>4 years</td>\n",
       "      <td>Rent</td>\n",
       "      <td>50025.0</td>\n",
       "      <td>Debt Consolidation</td>\n",
       "      <td>355.18</td>\n",
       "      <td>11.5</td>\n",
       "      <td>12</td>\n",
       "      <td>0</td>\n",
       "      <td>17391</td>\n",
       "      <td>37081.0</td>\n",
       "      <td>0.0</td>\n",
       "      <td>0.0</td>\n",
       "    </tr>\n",
       "  </tbody>\n",
       "</table>\n",
       "</div>"
      ],
      "text/plain": [
       "  Loan Status  Current Loan Amount        Term  Credit Score  \\\n",
       "0  Fully Paid              11520.0  Short Term         741.0   \n",
       "1  Fully Paid               3441.0  Short Term         734.0   \n",
       "2  Fully Paid              21029.0  Short Term         747.0   \n",
       "3  Fully Paid              18743.0  Short Term         747.0   \n",
       "4  Fully Paid              11731.0  Short Term         746.0   \n",
       "\n",
       "  Years in current job Home Ownership  Annual Income             Purpose  \\\n",
       "0            10+ years  Home Mortgage        33694.0  Debt Consolidation   \n",
       "1              4 years  Home Mortgage        42269.0               other   \n",
       "2            10+ years  Home Mortgage        90126.0  Debt Consolidation   \n",
       "3            10+ years       Own Home        38072.0  Debt Consolidation   \n",
       "4              4 years           Rent        50025.0  Debt Consolidation   \n",
       "\n",
       "   Monthly Debt  Years of Credit History  Number of Open Accounts  \\\n",
       "0        584.03                     12.3                       10   \n",
       "1       1106.04                     26.3                       17   \n",
       "2       1321.85                     28.8                        5   \n",
       "3        751.92                     26.2                        9   \n",
       "4        355.18                     11.5                       12   \n",
       "\n",
       "   Number of Credit Problems  Current Credit Balance  Maximum Open Credit  \\\n",
       "0                          0                    6760              16056.0   \n",
       "1                          0                    6262              19149.0   \n",
       "2                          0                   20967              28335.0   \n",
       "3                          0                   22529              43915.0   \n",
       "4                          0                   17391              37081.0   \n",
       "\n",
       "   Bankruptcies  Tax Liens  \n",
       "0           0.0        0.0  \n",
       "1           0.0        0.0  \n",
       "2           0.0        0.0  \n",
       "3           0.0        0.0  \n",
       "4           0.0        0.0  "
      ]
     },
     "execution_count": 2,
     "metadata": {},
     "output_type": "execute_result"
    }
   ],
   "source": [
    "df=pd.read_csv('df_new.csv', low_memory=False)\n",
    "df.head()"
   ]
  },
  {
   "cell_type": "code",
   "execution_count": 3,
   "id": "1caccba2",
   "metadata": {},
   "outputs": [
    {
     "data": {
      "text/plain": [
       "Loan Status                   object\n",
       "Current Loan Amount          float64\n",
       "Term                          object\n",
       "Credit Score                 float64\n",
       "Years in current job          object\n",
       "Home Ownership                object\n",
       "Annual Income                float64\n",
       "Purpose                       object\n",
       "Monthly Debt                 float64\n",
       "Years of Credit History      float64\n",
       "Number of Open Accounts        int64\n",
       "Number of Credit Problems      int64\n",
       "Current Credit Balance         int64\n",
       "Maximum Open Credit          float64\n",
       "Bankruptcies                 float64\n",
       "Tax Liens                    float64\n",
       "dtype: object"
      ]
     },
     "execution_count": 3,
     "metadata": {},
     "output_type": "execute_result"
    }
   ],
   "source": [
    "df.dtypes"
   ]
  },
  {
   "cell_type": "markdown",
   "id": "23d2b894",
   "metadata": {},
   "source": [
    "## Logistic Regression using GridSearchCV cross-validation"
   ]
  },
  {
   "cell_type": "code",
   "execution_count": 4,
   "id": "1579b8d9",
   "metadata": {},
   "outputs": [],
   "source": [
    "# create X - matrix of independent vars and y - vector of dependent vars"
   ]
  },
  {
   "cell_type": "code",
   "execution_count": 5,
   "id": "3fc307e7",
   "metadata": {},
   "outputs": [],
   "source": [
    "X=df.drop(['Loan Status','Term', 'Years in current job','Home Ownership','Purpose'], axis=1)\n",
    "y=df['Loan Status']"
   ]
  },
  {
   "cell_type": "code",
   "execution_count": 6,
   "id": "b178db32",
   "metadata": {},
   "outputs": [],
   "source": [
    "from sklearn.model_selection import train_test_split\n",
    "from sklearn.linear_model import LogisticRegression\n",
    "from sklearn.model_selection import GridSearchCV"
   ]
  },
  {
   "cell_type": "code",
   "execution_count": 7,
   "id": "60eec077",
   "metadata": {},
   "outputs": [],
   "source": [
    "# split into train and test data sets"
   ]
  },
  {
   "cell_type": "code",
   "execution_count": 8,
   "id": "081c6582",
   "metadata": {},
   "outputs": [],
   "source": [
    "X_train, X_test, y_train, y_test = train_test_split(X, y, test_size=0.2, random_state=42)"
   ]
  },
  {
   "cell_type": "code",
   "execution_count": 9,
   "id": "58a2988b",
   "metadata": {},
   "outputs": [],
   "source": [
    "# create a grid for estimating a variety of models with meta parameter 'C' and penalties in l1 or l2 mode"
   ]
  },
  {
   "cell_type": "code",
   "execution_count": 10,
   "id": "4b0dbd97",
   "metadata": {},
   "outputs": [],
   "source": [
    "c_space = np.logspace(-5, 8, 15)\n",
    "param_grid={'C': c_space, 'penalty':['l2']} # [l1,'l2']\n",
    "logreg = LogisticRegression(max_iter=10000)\n",
    "logreg_cv = GridSearchCV(logreg, param_grid, cv=5);\n",
    "logreg_cv.fit(X_train, y_train);"
   ]
  },
  {
   "cell_type": "code",
   "execution_count": 11,
   "id": "7206d064",
   "metadata": {},
   "outputs": [
    {
     "data": {
      "text/plain": [
       "{'C': 1e-05, 'penalty': 'l2'}"
      ]
     },
     "execution_count": 11,
     "metadata": {},
     "output_type": "execute_result"
    }
   ],
   "source": [
    "logreg_cv.best_params_"
   ]
  },
  {
   "cell_type": "code",
   "execution_count": 12,
   "id": "82d55ea6",
   "metadata": {},
   "outputs": [
    {
     "data": {
      "text/plain": [
       "0.6326561005087187"
      ]
     },
     "execution_count": 12,
     "metadata": {},
     "output_type": "execute_result"
    }
   ],
   "source": [
    "logreg_cv.best_score_"
   ]
  },
  {
   "cell_type": "code",
   "execution_count": 13,
   "id": "78887adb",
   "metadata": {},
   "outputs": [],
   "source": [
    "best_model = logreg_cv.best_estimator_"
   ]
  },
  {
   "cell_type": "code",
   "execution_count": 14,
   "id": "39104a35",
   "metadata": {},
   "outputs": [],
   "source": [
    "y_pred = best_model.predict(X_test)"
   ]
  },
  {
   "cell_type": "code",
   "execution_count": 15,
   "id": "39868c34",
   "metadata": {},
   "outputs": [
    {
     "data": {
      "text/plain": [
       "array(['Fully Paid', 'Fully Paid', 'Charged Off', ..., 'Fully Paid',\n",
       "       'Fully Paid', 'Fully Paid'], dtype=object)"
      ]
     },
     "execution_count": 15,
     "metadata": {},
     "output_type": "execute_result"
    }
   ],
   "source": [
    "y_pred"
   ]
  },
  {
   "cell_type": "code",
   "execution_count": 16,
   "id": "880cb4b4",
   "metadata": {},
   "outputs": [],
   "source": [
    "y_pred_proba=best_model.predict_proba(X_test)"
   ]
  },
  {
   "cell_type": "code",
   "execution_count": 17,
   "id": "88879d15",
   "metadata": {},
   "outputs": [
    {
     "data": {
      "text/plain": [
       "array([[0.39116069, 0.60883931],\n",
       "       [0.45568817, 0.54431183],\n",
       "       [0.58504384, 0.41495616],\n",
       "       [0.03022643, 0.96977357],\n",
       "       [0.19414064, 0.80585936]])"
      ]
     },
     "execution_count": 17,
     "metadata": {},
     "output_type": "execute_result"
    }
   ],
   "source": [
    "y_pred_proba[:5]"
   ]
  },
  {
   "cell_type": "code",
   "execution_count": 18,
   "id": "1ba72f60",
   "metadata": {},
   "outputs": [],
   "source": [
    "# wrestle data to create plots:\n",
    "# here I create two subsets of probabilities, one for cases that were 'Fully Paid' and \n",
    "# correctly identified as such, and one for 'Charged Off' and correctly identified as such\n",
    "pred_proba_df=pd.DataFrame(data=y_pred_proba, columns=['Charged Off','Fully Paid'])\n",
    "pred_proba_df['True']=y_test.values\n",
    "\n",
    "subset_1=pred_proba_df[pred_proba_df['True']=='Fully Paid']['Fully Paid']\n",
    "subset_2=pred_proba_df[pred_proba_df['True']=='Charged Off']['Charged Off']"
   ]
  },
  {
   "cell_type": "code",
   "execution_count": 19,
   "id": "5191e54d",
   "metadata": {},
   "outputs": [
    {
     "data": {
      "text/html": [
       "<div>\n",
       "<style scoped>\n",
       "    .dataframe tbody tr th:only-of-type {\n",
       "        vertical-align: middle;\n",
       "    }\n",
       "\n",
       "    .dataframe tbody tr th {\n",
       "        vertical-align: top;\n",
       "    }\n",
       "\n",
       "    .dataframe thead th {\n",
       "        text-align: right;\n",
       "    }\n",
       "</style>\n",
       "<table border=\"1\" class=\"dataframe\">\n",
       "  <thead>\n",
       "    <tr style=\"text-align: right;\">\n",
       "      <th></th>\n",
       "      <th>Charged Off</th>\n",
       "      <th>Fully Paid</th>\n",
       "      <th>True</th>\n",
       "    </tr>\n",
       "  </thead>\n",
       "  <tbody>\n",
       "    <tr>\n",
       "      <th>0</th>\n",
       "      <td>0.391161</td>\n",
       "      <td>0.608839</td>\n",
       "      <td>Fully Paid</td>\n",
       "    </tr>\n",
       "    <tr>\n",
       "      <th>1</th>\n",
       "      <td>0.455688</td>\n",
       "      <td>0.544312</td>\n",
       "      <td>Charged Off</td>\n",
       "    </tr>\n",
       "    <tr>\n",
       "      <th>2</th>\n",
       "      <td>0.585044</td>\n",
       "      <td>0.414956</td>\n",
       "      <td>Charged Off</td>\n",
       "    </tr>\n",
       "    <tr>\n",
       "      <th>3</th>\n",
       "      <td>0.030226</td>\n",
       "      <td>0.969774</td>\n",
       "      <td>Fully Paid</td>\n",
       "    </tr>\n",
       "    <tr>\n",
       "      <th>4</th>\n",
       "      <td>0.194141</td>\n",
       "      <td>0.805859</td>\n",
       "      <td>Charged Off</td>\n",
       "    </tr>\n",
       "  </tbody>\n",
       "</table>\n",
       "</div>"
      ],
      "text/plain": [
       "   Charged Off  Fully Paid         True\n",
       "0     0.391161    0.608839   Fully Paid\n",
       "1     0.455688    0.544312  Charged Off\n",
       "2     0.585044    0.414956  Charged Off\n",
       "3     0.030226    0.969774   Fully Paid\n",
       "4     0.194141    0.805859  Charged Off"
      ]
     },
     "execution_count": 19,
     "metadata": {},
     "output_type": "execute_result"
    }
   ],
   "source": [
    "pred_proba_df.head()"
   ]
  },
  {
   "cell_type": "code",
   "execution_count": 20,
   "id": "42107100",
   "metadata": {},
   "outputs": [],
   "source": [
    "import matplotlib.pyplot as plt\n",
    "import seaborn as sns\n",
    "import numpy as np\n",
    "import numpy.random as nr\n",
    "import math\n",
    "\n",
    "%matplotlib inline"
   ]
  },
  {
   "cell_type": "code",
   "execution_count": 21,
   "id": "8c6eeef2",
   "metadata": {},
   "outputs": [],
   "source": [
    "# the graph shows distribution of correctly classified cases: \n",
    "# where \"Charged Off\" have very low porobability of the correct classification (grey peak on the left)\n",
    "# i.e. the model works a lot better for Fully Paid than for 'Charged Off'"
   ]
  },
  {
   "cell_type": "code",
   "execution_count": 22,
   "id": "2f2ddb3d",
   "metadata": {},
   "outputs": [
    {
     "data": {
      "image/png": "[encoded data removed]",
      "text/plain": [
       "<Figure size 640x480 with 1 Axes>"
      ]
     },
     "metadata": {
      "needs_background": "light"
     },
     "output_type": "display_data"
    }
   ],
   "source": [
    "from matplotlib.pyplot import figure\n",
    "\n",
    "figure(figsize=(8, 6), dpi=80)\n",
    "bins = np.linspace(-0.5, 1.5, 20)\n",
    "\n",
    "plt.hist(subset_1, bins, color=\"b\", alpha=0.5, label='Fully Paid')\n",
    "plt.hist(subset_2, bins, color=\"k\",alpha=0.5,label='Charged Off')\n",
    "plt.legend(loc='upper right')\n",
    "plt.show()"
   ]
  },
  {
   "cell_type": "code",
   "execution_count": 23,
   "id": "dca99cd3",
   "metadata": {},
   "outputs": [],
   "source": [
    "# confusion matrix"
   ]
  },
  {
   "cell_type": "code",
   "execution_count": 24,
   "id": "c71abb9e",
   "metadata": {},
   "outputs": [],
   "source": [
    "from sklearn.metrics import confusion_matrix, classification_report"
   ]
  },
  {
   "cell_type": "code",
   "execution_count": 25,
   "id": "77c97442",
   "metadata": {},
   "outputs": [
    {
     "data": {
      "text/plain": [
       "array([[ 1317, 10168],\n",
       "       [ 1091, 17890]], dtype=int64)"
      ]
     },
     "execution_count": 25,
     "metadata": {},
     "output_type": "execute_result"
    }
   ],
   "source": [
    "confusion_matrix(y_test, y_pred)"
   ]
  },
  {
   "cell_type": "code",
   "execution_count": 26,
   "id": "4f94581c",
   "metadata": {},
   "outputs": [
    {
     "name": "stdout",
     "output_type": "stream",
     "text": [
      "              precision    recall  f1-score   support\n",
      "\n",
      " Charged Off       0.55      0.11      0.19     11485\n",
      "  Fully Paid       0.64      0.94      0.76     18981\n",
      "\n",
      "    accuracy                           0.63     30466\n",
      "   macro avg       0.59      0.53      0.48     30466\n",
      "weighted avg       0.60      0.63      0.55     30466\n",
      "\n"
     ]
    }
   ],
   "source": [
    "print(classification_report(y_test, y_pred)) # the model works better for predicting 'Fully Paid' than for 'Charged Off'"
   ]
  },
  {
   "cell_type": "markdown",
   "id": "bb3c73ab",
   "metadata": {},
   "source": [
    "### Building a Receiver Operating Characteristic curve"
   ]
  },
  {
   "cell_type": "markdown",
   "id": "cc438870",
   "metadata": {},
   "source": [
    "#### It is a plot of the false positive rate (x-axis) versus the true positive rate (y-axis) for a number of different candidate threshold values between 0.0 and 1.0."
   ]
  },
  {
   "cell_type": "code",
   "execution_count": 27,
   "id": "654b58dd",
   "metadata": {},
   "outputs": [],
   "source": [
    "from sklearn.metrics import roc_curve\n",
    "from sklearn.metrics import roc_auc_score\n",
    "\n",
    "lr_probs = best_model.predict_proba(X_test)\n",
    "lr_probs = lr_probs[:, 1]\n",
    "\n",
    "ns_probs = [0 for _ in range(len(y_test))]"
   ]
  },
  {
   "cell_type": "code",
   "execution_count": 28,
   "id": "961b8a5a",
   "metadata": {},
   "outputs": [
    {
     "name": "stdout",
     "output_type": "stream",
     "text": [
      "No Skill: ROC AUC=0.500\n",
      "Logistic: ROC AUC=0.631\n"
     ]
    }
   ],
   "source": [
    "ns_auc = roc_auc_score(y_test, ns_probs)\n",
    "lr_auc = roc_auc_score(y_test, lr_probs)\n",
    "\n",
    "print('No Skill: ROC AUC=%.3f' % (ns_auc))\n",
    "print('Logistic: ROC AUC=%.3f' % (lr_auc))\n",
    "# ROC AUC for the logistic regression model and for the no skill classifier that only predicts 0 for all cases."
   ]
  },
  {
   "cell_type": "code",
   "execution_count": 29,
   "id": "7bf31358",
   "metadata": {},
   "outputs": [
    {
     "data": {
      "text/plain": [
       "122769     Fully Paid\n",
       "141049    Charged Off\n",
       "26653     Charged Off\n",
       "378        Fully Paid\n",
       "144008    Charged Off\n",
       "             ...     \n",
       "103885     Fully Paid\n",
       "117258    Charged Off\n",
       "120632     Fully Paid\n",
       "21920      Fully Paid\n",
       "75638      Fully Paid\n",
       "Name: Loan Status, Length: 30466, dtype: object"
      ]
     },
     "execution_count": 29,
     "metadata": {},
     "output_type": "execute_result"
    }
   ],
   "source": [
    "y_test"
   ]
  },
  {
   "cell_type": "code",
   "execution_count": 30,
   "id": "b94f5cbd",
   "metadata": {},
   "outputs": [],
   "source": [
    "y_test_1=y_test\n",
    "\n",
    "y_test_1=y_test_1.replace('Charged Off', 0)\n",
    "y_test_1=y_test_1.replace('Fully Paid', 1)\n"
   ]
  },
  {
   "cell_type": "code",
   "execution_count": 31,
   "id": "cf645dd1",
   "metadata": {},
   "outputs": [
    {
     "data": {
      "image/png": "[encoded data removed]",
      "text/plain": [
       "<Figure size 640x480 with 1 Axes>"
      ]
     },
     "metadata": {
      "needs_background": "light"
     },
     "output_type": "display_data"
    }
   ],
   "source": [
    "ns_fpr, ns_tpr, _ = roc_curve(y_test_1, ns_probs)\n",
    "lr_fpr, lr_tpr, _ = roc_curve(y_test_1, lr_probs)\n",
    "\n",
    "figure(figsize=(8, 6), dpi=80)\n",
    "\n",
    "plt.plot(ns_fpr, ns_tpr, linestyle='--', label='No Skill')\n",
    "plt.plot(lr_fpr, lr_tpr, marker='.', label='Logistic')\n",
    "\n",
    "plt.xlabel('False Positive Rate')\n",
    "plt.ylabel('True Positive Rate')\n",
    "\n",
    "plt.legend()\n",
    "plt.show()"
   ]
  },
  {
   "cell_type": "code",
   "execution_count": 32,
   "id": "fd6d082f",
   "metadata": {},
   "outputs": [],
   "source": [
    "# The best performing model would have the logistic curve closer to the right angle, \n",
    "# with a steeply rising true positive rate at the start and a larger area under the curve\n",
    "# the current model predicts moderately well"
   ]
  }
 ],
 "metadata": {
  "kernelspec": {
   "display_name": "Python 3",
   "language": "python",
   "name": "python3"
  },
  "language_info": {
   "codemirror_mode": {
    "name": "ipython",
    "version": 3
   },
   "file_extension": ".py",
   "mimetype": "text/x-python",
   "name": "python",
   "nbconvert_exporter": "python",
   "pygments_lexer": "ipython3",
   "version": "3.8.8"
  }
 },
 "nbformat": 4,
 "nbformat_minor": 5
}
