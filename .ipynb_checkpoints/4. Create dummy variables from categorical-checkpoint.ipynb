{
 "cells": [
  {
   "cell_type": "markdown",
   "id": "ee55272d",
   "metadata": {},
   "source": [
    "# Creating Dummy Variables"
   ]
  },
  {
   "cell_type": "code",
   "execution_count": 2,
   "id": "7d7166b3",
   "metadata": {},
   "outputs": [],
   "source": [
    "import pandas as pd\n",
    "import numpy as np"
   ]
  },
  {
   "cell_type": "code",
   "execution_count": 3,
   "id": "5df67d30",
   "metadata": {},
   "outputs": [],
   "source": [
    "df=pd.read_csv('df_new.csv')"
   ]
  },
  {
   "cell_type": "code",
   "execution_count": 8,
   "id": "e64b421a",
   "metadata": {},
   "outputs": [],
   "source": [
    "df_dummies=pd.get_dummies(df, prefix=None, prefix_sep='_',dummy_na=False, columns=['Term','Years in current job','Home Ownership','Purpose'])"
   ]
  },
  {
   "cell_type": "code",
   "execution_count": 9,
   "id": "b3f4345c",
   "metadata": {},
   "outputs": [
    {
     "name": "stdout",
     "output_type": "stream",
     "text": [
      "<class 'pandas.core.frame.DataFrame'>\n",
      "RangeIndex: 152307 entries, 0 to 152306\n",
      "Data columns (total 39 columns):\n",
      " #   Column                          Non-Null Count   Dtype  \n",
      "---  ------                          --------------   -----  \n",
      " 0   Loan Status                     152307 non-null  object \n",
      " 1   Current Loan Amount             152307 non-null  float64\n",
      " 2   Credit Score                    152307 non-null  float64\n",
      " 3   Annual Income                   152307 non-null  float64\n",
      " 4   Monthly Debt                    152307 non-null  float64\n",
      " 5   Years of Credit History         152307 non-null  float64\n",
      " 6   Number of Open Accounts         152307 non-null  int64  \n",
      " 7   Number of Credit Problems       152307 non-null  int64  \n",
      " 8   Current Credit Balance          152307 non-null  int64  \n",
      " 9   Maximum Open Credit             152307 non-null  float64\n",
      " 10  Bankruptcies                    152307 non-null  float64\n",
      " 11  Tax Liens                       152307 non-null  float64\n",
      " 12  Term_Long Term                  152307 non-null  uint8  \n",
      " 13  Term_Short Term                 152307 non-null  uint8  \n",
      " 14  Years in current job_1 year     152307 non-null  uint8  \n",
      " 15  Years in current job_10+ years  152307 non-null  uint8  \n",
      " 16  Years in current job_2 years    152307 non-null  uint8  \n",
      " 17  Years in current job_3 years    152307 non-null  uint8  \n",
      " 18  Years in current job_4 years    152307 non-null  uint8  \n",
      " 19  Years in current job_5 years    152307 non-null  uint8  \n",
      " 20  Years in current job_6 years    152307 non-null  uint8  \n",
      " 21  Years in current job_7 years    152307 non-null  uint8  \n",
      " 22  Years in current job_8 years    152307 non-null  uint8  \n",
      " 23  Years in current job_9 years    152307 non-null  uint8  \n",
      " 24  Years in current job_< 1 year   152307 non-null  uint8  \n",
      " 25  Home Ownership_HaveMortgage     152307 non-null  uint8  \n",
      " 26  Home Ownership_Home Mortgage    152307 non-null  uint8  \n",
      " 27  Home Ownership_Own Home         152307 non-null  uint8  \n",
      " 28  Home Ownership_Rent             152307 non-null  uint8  \n",
      " 29  Purpose_Business Loan           152307 non-null  uint8  \n",
      " 30  Purpose_Buy House               152307 non-null  uint8  \n",
      " 31  Purpose_Buy a Car               152307 non-null  uint8  \n",
      " 32  Purpose_Debt Consolidation      152307 non-null  uint8  \n",
      " 33  Purpose_Educational Expenses    152307 non-null  uint8  \n",
      " 34  Purpose_Home Improvements       152307 non-null  uint8  \n",
      " 35  Purpose_Medical Bills           152307 non-null  uint8  \n",
      " 36  Purpose_Other                   152307 non-null  uint8  \n",
      " 37  Purpose_Take a Trip             152307 non-null  uint8  \n",
      " 38  Purpose_other                   152307 non-null  uint8  \n",
      "dtypes: float64(8), int64(3), object(1), uint8(27)\n",
      "memory usage: 17.9+ MB\n"
     ]
    }
   ],
   "source": [
    "df_dummies.info()"
   ]
  },
  {
   "cell_type": "code",
   "execution_count": null,
   "id": "b63647c1",
   "metadata": {},
   "outputs": [],
   "source": [
    "# all categorical columns, except for the label 'Loan Status' have been turned to dummy variables."
   ]
  },
  {
   "cell_type": "code",
   "execution_count": 10,
   "id": "674a6387",
   "metadata": {},
   "outputs": [],
   "source": [
    "df_dummies.to_csv('df_new_dummies.csv', index=False)"
   ]
  },
  {
   "cell_type": "code",
   "execution_count": null,
   "id": "88ca0195",
   "metadata": {},
   "outputs": [],
   "source": []
  }
 ],
 "metadata": {
  "kernelspec": {
   "display_name": "Python 3",
   "language": "python",
   "name": "python3"
  },
  "language_info": {
   "codemirror_mode": {
    "name": "ipython",
    "version": 3
   },
   "file_extension": ".py",
   "mimetype": "text/x-python",
   "name": "python",
   "nbconvert_exporter": "python",
   "pygments_lexer": "ipython3",
   "version": "3.8.8"
  }
 },
 "nbformat": 4,
 "nbformat_minor": 5
}
