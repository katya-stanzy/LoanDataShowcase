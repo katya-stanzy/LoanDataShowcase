{
 "cells": [
  {
   "cell_type": "markdown",
   "id": "12e9c432",
   "metadata": {},
   "source": [
    "# Loan Data -- Explore and Clean"
   ]
  },
  {
   "cell_type": "code",
   "execution_count": 1,
   "id": "c4b8a3ed",
   "metadata": {},
   "outputs": [],
   "source": [
    "import pandas as pd\n",
    "import numpy as np"
   ]
  },
  {
   "cell_type": "code",
   "execution_count": 2,
   "id": "fc06a412",
   "metadata": {},
   "outputs": [],
   "source": [
    "# Quick sorting of the original CSV file showed a variety of values used to signify missing. \n",
    "# These are now changed to np.nan on loading. "
   ]
  },
  {
   "cell_type": "code",
   "execution_count": 4,
   "id": "4522bf03",
   "metadata": {},
   "outputs": [
    {
     "data": {
      "text/html": [
       "<div>\n",
       "<style scoped>\n",
       "    .dataframe tbody tr th:only-of-type {\n",
       "        vertical-align: middle;\n",
       "    }\n",
       "\n",
       "    .dataframe tbody tr th {\n",
       "        vertical-align: top;\n",
       "    }\n",
       "\n",
       "    .dataframe thead th {\n",
       "        text-align: right;\n",
       "    }\n",
       "</style>\n",
       "<table border=\"1\" class=\"dataframe\">\n",
       "  <thead>\n",
       "    <tr style=\"text-align: right;\">\n",
       "      <th></th>\n",
       "      <th>Loan ID</th>\n",
       "      <th>Customer ID</th>\n",
       "      <th>Loan Status</th>\n",
       "      <th>Current Loan Amount</th>\n",
       "      <th>Term</th>\n",
       "      <th>Credit Score</th>\n",
       "      <th>Years in current job</th>\n",
       "      <th>Home Ownership</th>\n",
       "      <th>Annual Income</th>\n",
       "      <th>Purpose</th>\n",
       "      <th>Monthly Debt</th>\n",
       "      <th>Years of Credit History</th>\n",
       "      <th>Months since last delinquent</th>\n",
       "      <th>Number of Open Accounts</th>\n",
       "      <th>Number of Credit Problems</th>\n",
       "      <th>Current Credit Balance</th>\n",
       "      <th>Maximum Open Credit</th>\n",
       "      <th>Bankruptcies</th>\n",
       "      <th>Tax Liens</th>\n",
       "    </tr>\n",
       "  </thead>\n",
       "  <tbody>\n",
       "    <tr>\n",
       "      <th>0</th>\n",
       "      <td>000025bb-5694-4cff-b17d-192b1a98ba44</td>\n",
       "      <td>5ebc8bb1-5eb9-4404-b11b-a6eebc401a19</td>\n",
       "      <td>Fully Paid</td>\n",
       "      <td>11520</td>\n",
       "      <td>Short Term</td>\n",
       "      <td>741.0</td>\n",
       "      <td>10+ years</td>\n",
       "      <td>Home Mortgage</td>\n",
       "      <td>33694.0</td>\n",
       "      <td>Debt Consolidation</td>\n",
       "      <td>$584.03</td>\n",
       "      <td>12.3</td>\n",
       "      <td>41.0</td>\n",
       "      <td>10</td>\n",
       "      <td>0</td>\n",
       "      <td>6760</td>\n",
       "      <td>16056.0</td>\n",
       "      <td>0.0</td>\n",
       "      <td>0.0</td>\n",
       "    </tr>\n",
       "    <tr>\n",
       "      <th>1</th>\n",
       "      <td>00002c49-3a29-4bd4-8f67-c8f8fbc1048c</td>\n",
       "      <td>927b388d-2e01-423f-a8dc-f7e42d668f46</td>\n",
       "      <td>Fully Paid</td>\n",
       "      <td>3441</td>\n",
       "      <td>Short Term</td>\n",
       "      <td>734.0</td>\n",
       "      <td>4 years</td>\n",
       "      <td>Home Mortgage</td>\n",
       "      <td>42269.0</td>\n",
       "      <td>other</td>\n",
       "      <td>$1,106.04</td>\n",
       "      <td>26.3</td>\n",
       "      <td>NaN</td>\n",
       "      <td>17</td>\n",
       "      <td>0</td>\n",
       "      <td>6262</td>\n",
       "      <td>19149.0</td>\n",
       "      <td>0.0</td>\n",
       "      <td>0.0</td>\n",
       "    </tr>\n",
       "    <tr>\n",
       "      <th>2</th>\n",
       "      <td>00002d89-27f3-409b-aa76-90834f359a65</td>\n",
       "      <td>defce609-c631-447d-aad6-1270615e89c4</td>\n",
       "      <td>Fully Paid</td>\n",
       "      <td>21029</td>\n",
       "      <td>Short Term</td>\n",
       "      <td>747.0</td>\n",
       "      <td>10+ years</td>\n",
       "      <td>Home Mortgage</td>\n",
       "      <td>90126.0</td>\n",
       "      <td>Debt Consolidation</td>\n",
       "      <td>$1,321.85</td>\n",
       "      <td>28.8</td>\n",
       "      <td>NaN</td>\n",
       "      <td>5</td>\n",
       "      <td>0</td>\n",
       "      <td>20967</td>\n",
       "      <td>28335.0</td>\n",
       "      <td>0.0</td>\n",
       "      <td>0.0</td>\n",
       "    </tr>\n",
       "    <tr>\n",
       "      <th>3</th>\n",
       "      <td>00005222-b4d8-45a4-ad8c-186057e24233</td>\n",
       "      <td>070bcecb-aae7-4485-a26a-e0403e7bb6c5</td>\n",
       "      <td>Fully Paid</td>\n",
       "      <td>18743</td>\n",
       "      <td>Short Term</td>\n",
       "      <td>747.0</td>\n",
       "      <td>10+ years</td>\n",
       "      <td>Own Home</td>\n",
       "      <td>38072.0</td>\n",
       "      <td>Debt Consolidation</td>\n",
       "      <td>$751.92</td>\n",
       "      <td>26.2</td>\n",
       "      <td>NaN</td>\n",
       "      <td>9</td>\n",
       "      <td>0</td>\n",
       "      <td>22529</td>\n",
       "      <td>43915.0</td>\n",
       "      <td>0.0</td>\n",
       "      <td>0.0</td>\n",
       "    </tr>\n",
       "    <tr>\n",
       "      <th>4</th>\n",
       "      <td>0000757f-a121-41ed-b17b-162e76647c1f</td>\n",
       "      <td>dde79588-12f0-4811-bab0-e2b07f633fcd</td>\n",
       "      <td>Fully Paid</td>\n",
       "      <td>11731</td>\n",
       "      <td>Short Term</td>\n",
       "      <td>746.0</td>\n",
       "      <td>4 years</td>\n",
       "      <td>Rent</td>\n",
       "      <td>50025.0</td>\n",
       "      <td>Debt Consolidation</td>\n",
       "      <td>$355.18</td>\n",
       "      <td>11.5</td>\n",
       "      <td>NaN</td>\n",
       "      <td>12</td>\n",
       "      <td>0</td>\n",
       "      <td>17391</td>\n",
       "      <td>37081.0</td>\n",
       "      <td>0.0</td>\n",
       "      <td>0.0</td>\n",
       "    </tr>\n",
       "  </tbody>\n",
       "</table>\n",
       "</div>"
      ],
      "text/plain": [
       "                                Loan ID                           Customer ID  \\\n",
       "0  000025bb-5694-4cff-b17d-192b1a98ba44  5ebc8bb1-5eb9-4404-b11b-a6eebc401a19   \n",
       "1  00002c49-3a29-4bd4-8f67-c8f8fbc1048c  927b388d-2e01-423f-a8dc-f7e42d668f46   \n",
       "2  00002d89-27f3-409b-aa76-90834f359a65  defce609-c631-447d-aad6-1270615e89c4   \n",
       "3  00005222-b4d8-45a4-ad8c-186057e24233  070bcecb-aae7-4485-a26a-e0403e7bb6c5   \n",
       "4  0000757f-a121-41ed-b17b-162e76647c1f  dde79588-12f0-4811-bab0-e2b07f633fcd   \n",
       "\n",
       "  Loan Status  Current Loan Amount        Term  Credit Score  \\\n",
       "0  Fully Paid                11520  Short Term         741.0   \n",
       "1  Fully Paid                 3441  Short Term         734.0   \n",
       "2  Fully Paid                21029  Short Term         747.0   \n",
       "3  Fully Paid                18743  Short Term         747.0   \n",
       "4  Fully Paid                11731  Short Term         746.0   \n",
       "\n",
       "  Years in current job Home Ownership  Annual Income             Purpose  \\\n",
       "0            10+ years  Home Mortgage        33694.0  Debt Consolidation   \n",
       "1              4 years  Home Mortgage        42269.0               other   \n",
       "2            10+ years  Home Mortgage        90126.0  Debt Consolidation   \n",
       "3            10+ years       Own Home        38072.0  Debt Consolidation   \n",
       "4              4 years           Rent        50025.0  Debt Consolidation   \n",
       "\n",
       "  Monthly Debt  Years of Credit History  Months since last delinquent  \\\n",
       "0      $584.03                     12.3                          41.0   \n",
       "1   $1,106.04                      26.3                           NaN   \n",
       "2   $1,321.85                      28.8                           NaN   \n",
       "3      $751.92                     26.2                           NaN   \n",
       "4      $355.18                     11.5                           NaN   \n",
       "\n",
       "   Number of Open Accounts  Number of Credit Problems  Current Credit Balance  \\\n",
       "0                       10                          0                    6760   \n",
       "1                       17                          0                    6262   \n",
       "2                        5                          0                   20967   \n",
       "3                        9                          0                   22529   \n",
       "4                       12                          0                   17391   \n",
       "\n",
       "   Maximum Open Credit  Bankruptcies  Tax Liens  \n",
       "0              16056.0           0.0        0.0  \n",
       "1              19149.0           0.0        0.0  \n",
       "2              28335.0           0.0        0.0  \n",
       "3              43915.0           0.0        0.0  \n",
       "4              37081.0           0.0        0.0  "
      ]
     },
     "execution_count": 4,
     "metadata": {},
     "output_type": "execute_result"
    }
   ],
   "source": [
    "missing_values = ['n/a','na', 'NaN','#VALUE!']\n",
    "df=pd.read_csv('C:/Users/Ekatarina/machine_learning_CloudAcademy/data/LoanData.csv',na_values=missing_values, low_memory=False)\n",
    "df.head()"
   ]
  },
  {
   "cell_type": "code",
   "execution_count": 5,
   "id": "5ecbcf82",
   "metadata": {},
   "outputs": [
    {
     "data": {
      "text/plain": [
       "(256984, 19)"
      ]
     },
     "execution_count": 5,
     "metadata": {},
     "output_type": "execute_result"
    }
   ],
   "source": [
    "df.shape"
   ]
  },
  {
   "cell_type": "code",
   "execution_count": 6,
   "id": "e40c2d5f",
   "metadata": {},
   "outputs": [],
   "source": [
    "df.drop_duplicates();"
   ]
  },
  {
   "cell_type": "code",
   "execution_count": 7,
   "id": "9044bb33",
   "metadata": {},
   "outputs": [
    {
     "data": {
      "text/plain": [
       "(256984, 19)"
      ]
     },
     "execution_count": 7,
     "metadata": {},
     "output_type": "execute_result"
    }
   ],
   "source": [
    "df.shape # no duplicates are removed"
   ]
  },
  {
   "cell_type": "code",
   "execution_count": 8,
   "id": "9b4f1769",
   "metadata": {
    "scrolled": true
   },
   "outputs": [
    {
     "data": {
      "text/plain": [
       "Loan ID                          object\n",
       "Customer ID                      object\n",
       "Loan Status                      object\n",
       "Current Loan Amount               int64\n",
       "Term                             object\n",
       "Credit Score                    float64\n",
       "Years in current job             object\n",
       "Home Ownership                   object\n",
       "Annual Income                   float64\n",
       "Purpose                          object\n",
       "Monthly Debt                     object\n",
       "Years of Credit History         float64\n",
       "Months since last delinquent    float64\n",
       "Number of Open Accounts           int64\n",
       "Number of Credit Problems         int64\n",
       "Current Credit Balance            int64\n",
       "Maximum Open Credit             float64\n",
       "Bankruptcies                    float64\n",
       "Tax Liens                       float64\n",
       "dtype: object"
      ]
     },
     "execution_count": 8,
     "metadata": {},
     "output_type": "execute_result"
    }
   ],
   "source": [
    "df.dtypes"
   ]
  },
  {
   "cell_type": "code",
   "execution_count": 9,
   "id": "2a7e03ac",
   "metadata": {},
   "outputs": [],
   "source": [
    "# object columns: Loan Status, Term, Years in current job, Home ownership, Purpoose, Monthly Debt\n",
    "# Monthly debt can be changed to float"
   ]
  },
  {
   "cell_type": "code",
   "execution_count": 10,
   "id": "8f6f2508",
   "metadata": {},
   "outputs": [
    {
     "name": "stderr",
     "output_type": "stream",
     "text": [
      "<ipython-input-10-33437b23b6b7>:1: FutureWarning: The default value of regex will change from True to False in a future version. In addition, single character regular expressions will*not* be treated as literal strings when regex=True.\n",
      "  df['Monthly Debt']=df['Monthly Debt'].str.replace('$', '', n=1)\n"
     ]
    }
   ],
   "source": [
    "df['Monthly Debt']=df['Monthly Debt'].str.replace('$', '', n=1)\n",
    "df['Monthly Debt']=df['Monthly Debt'].str.replace(',', '', n=1)\n",
    "df['Monthly Debt']=pd.to_numeric(df['Monthly Debt'], downcast='float')"
   ]
  },
  {
   "cell_type": "code",
   "execution_count": 11,
   "id": "191087c5",
   "metadata": {},
   "outputs": [
    {
     "data": {
      "text/html": [
       "<div>\n",
       "<style scoped>\n",
       "    .dataframe tbody tr th:only-of-type {\n",
       "        vertical-align: middle;\n",
       "    }\n",
       "\n",
       "    .dataframe tbody tr th {\n",
       "        vertical-align: top;\n",
       "    }\n",
       "\n",
       "    .dataframe thead th {\n",
       "        text-align: right;\n",
       "    }\n",
       "</style>\n",
       "<table border=\"1\" class=\"dataframe\">\n",
       "  <thead>\n",
       "    <tr style=\"text-align: right;\">\n",
       "      <th></th>\n",
       "      <th>Current Loan Amount</th>\n",
       "      <th>Credit Score</th>\n",
       "      <th>Annual Income</th>\n",
       "      <th>Monthly Debt</th>\n",
       "      <th>Years of Credit History</th>\n",
       "      <th>Months since last delinquent</th>\n",
       "      <th>Number of Open Accounts</th>\n",
       "      <th>Number of Credit Problems</th>\n",
       "      <th>Current Credit Balance</th>\n",
       "      <th>Maximum Open Credit</th>\n",
       "      <th>Bankruptcies</th>\n",
       "      <th>Tax Liens</th>\n",
       "    </tr>\n",
       "  </thead>\n",
       "  <tbody>\n",
       "    <tr>\n",
       "      <th>count</th>\n",
       "      <td>2.569840e+05</td>\n",
       "      <td>195308.000000</td>\n",
       "      <td>1.953080e+05</td>\n",
       "      <td>256984.000000</td>\n",
       "      <td>256984.000000</td>\n",
       "      <td>116601.000000</td>\n",
       "      <td>256984.000000</td>\n",
       "      <td>256984.000000</td>\n",
       "      <td>2.569840e+05</td>\n",
       "      <td>2.569800e+05</td>\n",
       "      <td>256455.000000</td>\n",
       "      <td>256961.000000</td>\n",
       "    </tr>\n",
       "    <tr>\n",
       "      <th>mean</th>\n",
       "      <td>1.371331e+07</td>\n",
       "      <td>1251.116099</td>\n",
       "      <td>7.195272e+04</td>\n",
       "      <td>963.312256</td>\n",
       "      <td>18.290195</td>\n",
       "      <td>34.881450</td>\n",
       "      <td>11.106267</td>\n",
       "      <td>0.156628</td>\n",
       "      <td>1.540656e+04</td>\n",
       "      <td>3.572350e+04</td>\n",
       "      <td>0.110316</td>\n",
       "      <td>0.027203</td>\n",
       "    </tr>\n",
       "    <tr>\n",
       "      <th>std</th>\n",
       "      <td>3.438131e+07</td>\n",
       "      <td>1762.016848</td>\n",
       "      <td>5.887757e+04</td>\n",
       "      <td>634.099243</td>\n",
       "      <td>7.075747</td>\n",
       "      <td>21.854165</td>\n",
       "      <td>4.982982</td>\n",
       "      <td>0.460731</td>\n",
       "      <td>1.966506e+04</td>\n",
       "      <td>5.550080e+05</td>\n",
       "      <td>0.336229</td>\n",
       "      <td>0.245950</td>\n",
       "    </tr>\n",
       "    <tr>\n",
       "      <th>min</th>\n",
       "      <td>5.050000e+02</td>\n",
       "      <td>585.000000</td>\n",
       "      <td>0.000000e+00</td>\n",
       "      <td>0.000000</td>\n",
       "      <td>3.400000</td>\n",
       "      <td>0.000000</td>\n",
       "      <td>0.000000</td>\n",
       "      <td>0.000000</td>\n",
       "      <td>0.000000e+00</td>\n",
       "      <td>0.000000e+00</td>\n",
       "      <td>0.000000</td>\n",
       "      <td>0.000000</td>\n",
       "    </tr>\n",
       "    <tr>\n",
       "      <th>25%</th>\n",
       "      <td>8.299000e+03</td>\n",
       "      <td>714.000000</td>\n",
       "      <td>4.432100e+04</td>\n",
       "      <td>531.992493</td>\n",
       "      <td>13.500000</td>\n",
       "      <td>16.000000</td>\n",
       "      <td>8.000000</td>\n",
       "      <td>0.000000</td>\n",
       "      <td>5.974000e+03</td>\n",
       "      <td>1.277800e+04</td>\n",
       "      <td>0.000000</td>\n",
       "      <td>0.000000</td>\n",
       "    </tr>\n",
       "    <tr>\n",
       "      <th>50%</th>\n",
       "      <td>1.429800e+04</td>\n",
       "      <td>733.000000</td>\n",
       "      <td>6.124200e+04</td>\n",
       "      <td>844.520020</td>\n",
       "      <td>17.000000</td>\n",
       "      <td>32.000000</td>\n",
       "      <td>10.000000</td>\n",
       "      <td>0.000000</td>\n",
       "      <td>1.107800e+04</td>\n",
       "      <td>2.174000e+04</td>\n",
       "      <td>0.000000</td>\n",
       "      <td>0.000000</td>\n",
       "    </tr>\n",
       "    <tr>\n",
       "      <th>75%</th>\n",
       "      <td>2.436700e+04</td>\n",
       "      <td>744.000000</td>\n",
       "      <td>8.646200e+04</td>\n",
       "      <td>1252.452454</td>\n",
       "      <td>21.700000</td>\n",
       "      <td>51.000000</td>\n",
       "      <td>14.000000</td>\n",
       "      <td>0.000000</td>\n",
       "      <td>1.931900e+04</td>\n",
       "      <td>3.617125e+04</td>\n",
       "      <td>0.000000</td>\n",
       "      <td>0.000000</td>\n",
       "    </tr>\n",
       "    <tr>\n",
       "      <th>max</th>\n",
       "      <td>1.000000e+08</td>\n",
       "      <td>7510.000000</td>\n",
       "      <td>8.713547e+06</td>\n",
       "      <td>22939.119141</td>\n",
       "      <td>70.500000</td>\n",
       "      <td>176.000000</td>\n",
       "      <td>76.000000</td>\n",
       "      <td>11.000000</td>\n",
       "      <td>1.731412e+06</td>\n",
       "      <td>1.763322e+08</td>\n",
       "      <td>7.000000</td>\n",
       "      <td>11.000000</td>\n",
       "    </tr>\n",
       "  </tbody>\n",
       "</table>\n",
       "</div>"
      ],
      "text/plain": [
       "       Current Loan Amount   Credit Score  Annual Income   Monthly Debt  \\\n",
       "count         2.569840e+05  195308.000000   1.953080e+05  256984.000000   \n",
       "mean          1.371331e+07    1251.116099   7.195272e+04     963.312256   \n",
       "std           3.438131e+07    1762.016848   5.887757e+04     634.099243   \n",
       "min           5.050000e+02     585.000000   0.000000e+00       0.000000   \n",
       "25%           8.299000e+03     714.000000   4.432100e+04     531.992493   \n",
       "50%           1.429800e+04     733.000000   6.124200e+04     844.520020   \n",
       "75%           2.436700e+04     744.000000   8.646200e+04    1252.452454   \n",
       "max           1.000000e+08    7510.000000   8.713547e+06   22939.119141   \n",
       "\n",
       "       Years of Credit History  Months since last delinquent  \\\n",
       "count            256984.000000                 116601.000000   \n",
       "mean                 18.290195                     34.881450   \n",
       "std                   7.075747                     21.854165   \n",
       "min                   3.400000                      0.000000   \n",
       "25%                  13.500000                     16.000000   \n",
       "50%                  17.000000                     32.000000   \n",
       "75%                  21.700000                     51.000000   \n",
       "max                  70.500000                    176.000000   \n",
       "\n",
       "       Number of Open Accounts  Number of Credit Problems  \\\n",
       "count            256984.000000              256984.000000   \n",
       "mean                 11.106267                   0.156628   \n",
       "std                   4.982982                   0.460731   \n",
       "min                   0.000000                   0.000000   \n",
       "25%                   8.000000                   0.000000   \n",
       "50%                  10.000000                   0.000000   \n",
       "75%                  14.000000                   0.000000   \n",
       "max                  76.000000                  11.000000   \n",
       "\n",
       "       Current Credit Balance  Maximum Open Credit   Bankruptcies  \\\n",
       "count            2.569840e+05         2.569800e+05  256455.000000   \n",
       "mean             1.540656e+04         3.572350e+04       0.110316   \n",
       "std              1.966506e+04         5.550080e+05       0.336229   \n",
       "min              0.000000e+00         0.000000e+00       0.000000   \n",
       "25%              5.974000e+03         1.277800e+04       0.000000   \n",
       "50%              1.107800e+04         2.174000e+04       0.000000   \n",
       "75%              1.931900e+04         3.617125e+04       0.000000   \n",
       "max              1.731412e+06         1.763322e+08       7.000000   \n",
       "\n",
       "           Tax Liens  \n",
       "count  256961.000000  \n",
       "mean        0.027203  \n",
       "std         0.245950  \n",
       "min         0.000000  \n",
       "25%         0.000000  \n",
       "50%         0.000000  \n",
       "75%         0.000000  \n",
       "max        11.000000  "
      ]
     },
     "execution_count": 11,
     "metadata": {},
     "output_type": "execute_result"
    }
   ],
   "source": [
    "df.describe()"
   ]
  },
  {
   "cell_type": "code",
   "execution_count": 12,
   "id": "fc6141ee",
   "metadata": {},
   "outputs": [],
   "source": [
    "# maximum records = 2.56984e+05, 'Credit Score', 'Annual Income', \n",
    "#'Months since last delinquent', 'Maximum Open Credit', 'Bankruptcies', 'Tax Liens' -- all have missing data"
   ]
  },
  {
   "cell_type": "code",
   "execution_count": 13,
   "id": "d3ad41b3",
   "metadata": {},
   "outputs": [],
   "source": [
    "import matplotlib.pyplot as plt\n",
    "import seaborn as sns\n",
    "import numpy as np\n",
    "import numpy.random as nr\n",
    "import math\n",
    "\n",
    "%matplotlib inline"
   ]
  },
  {
   "cell_type": "code",
   "execution_count": 14,
   "id": "0c6d9ddf",
   "metadata": {},
   "outputs": [
    {
     "data": {
      "text/plain": [
       "<Figure size 432x288 with 0 Axes>"
      ]
     },
     "metadata": {},
     "output_type": "display_data"
    },
    {
     "data": {
      "image/png": "[encoded data removed]",
      "text/plain": [
       "<Figure size 864x576 with 12 Axes>"
      ]
     },
     "metadata": {
      "needs_background": "light"
     },
     "output_type": "display_data"
    }
   ],
   "source": [
    "plt.figure();\n",
    "df.hist(color=\"b\", alpha=0.5, bins=50, figsize=(12, 8));"
   ]
  },
  {
   "cell_type": "code",
   "execution_count": 15,
   "id": "fdd87f82",
   "metadata": {},
   "outputs": [],
   "source": [
    "# 'Current Loan Amount', 'Credit Score', 'Annual Income', 'Monthly Debt', 'Number of Credit Problems', 'Current Credit Balance', 'Maximum Open Credit', \n",
    "#'Bankruptcies' and 'Tax Liens' are stronly skewd right\n",
    "# on inspection, the maximum values here are orders of magnitude higher than the 75%"
   ]
  },
  {
   "cell_type": "code",
   "execution_count": 16,
   "id": "b4695320",
   "metadata": {},
   "outputs": [
    {
     "data": {
      "text/html": [
       "<div>\n",
       "<style scoped>\n",
       "    .dataframe tbody tr th:only-of-type {\n",
       "        vertical-align: middle;\n",
       "    }\n",
       "\n",
       "    .dataframe tbody tr th {\n",
       "        vertical-align: top;\n",
       "    }\n",
       "\n",
       "    .dataframe thead th {\n",
       "        text-align: right;\n",
       "    }\n",
       "</style>\n",
       "<table border=\"1\" class=\"dataframe\">\n",
       "  <thead>\n",
       "    <tr style=\"text-align: right;\">\n",
       "      <th></th>\n",
       "      <th>Loan ID</th>\n",
       "      <th>Customer ID</th>\n",
       "      <th>Loan Status</th>\n",
       "      <th>Current Loan Amount</th>\n",
       "      <th>Term</th>\n",
       "      <th>Credit Score</th>\n",
       "      <th>Years in current job</th>\n",
       "      <th>Home Ownership</th>\n",
       "      <th>Annual Income</th>\n",
       "      <th>Purpose</th>\n",
       "      <th>Monthly Debt</th>\n",
       "      <th>Years of Credit History</th>\n",
       "      <th>Months since last delinquent</th>\n",
       "      <th>Number of Open Accounts</th>\n",
       "      <th>Number of Credit Problems</th>\n",
       "      <th>Current Credit Balance</th>\n",
       "      <th>Maximum Open Credit</th>\n",
       "      <th>Bankruptcies</th>\n",
       "      <th>Tax Liens</th>\n",
       "    </tr>\n",
       "  </thead>\n",
       "  <tbody>\n",
       "    <tr>\n",
       "      <th>10</th>\n",
       "      <td>00020fb0-6b8a-4b3a-8c72-9c4c847e8cb6</td>\n",
       "      <td>c9decd06-16f7-44c3-b007-8776f2a9233d</td>\n",
       "      <td>Fully Paid</td>\n",
       "      <td>99999999</td>\n",
       "      <td>Short Term</td>\n",
       "      <td>742.0</td>\n",
       "      <td>3 years</td>\n",
       "      <td>Home Mortgage</td>\n",
       "      <td>64760.0</td>\n",
       "      <td>Debt Consolidation</td>\n",
       "      <td>582.840027</td>\n",
       "      <td>26.8</td>\n",
       "      <td>NaN</td>\n",
       "      <td>11</td>\n",
       "      <td>0</td>\n",
       "      <td>8880</td>\n",
       "      <td>22711.0</td>\n",
       "      <td>0.0</td>\n",
       "      <td>0.0</td>\n",
       "    </tr>\n",
       "    <tr>\n",
       "      <th>16</th>\n",
       "      <td>0002c691-5314-44ab-b205-3fb1cc4ee6b2</td>\n",
       "      <td>41207d1e-5d13-43ec-9fe9-f222b4da5e0c</td>\n",
       "      <td>Fully Paid</td>\n",
       "      <td>99999999</td>\n",
       "      <td>Short Term</td>\n",
       "      <td>744.0</td>\n",
       "      <td>6 years</td>\n",
       "      <td>Home Mortgage</td>\n",
       "      <td>65605.0</td>\n",
       "      <td>Debt Consolidation</td>\n",
       "      <td>984.070007</td>\n",
       "      <td>21.0</td>\n",
       "      <td>NaN</td>\n",
       "      <td>5</td>\n",
       "      <td>1</td>\n",
       "      <td>11514</td>\n",
       "      <td>17262.0</td>\n",
       "      <td>1.0</td>\n",
       "      <td>0.0</td>\n",
       "    </tr>\n",
       "    <tr>\n",
       "      <th>23</th>\n",
       "      <td>0003fbfd-33ee-4ae9-8074-b46f6ff59281</td>\n",
       "      <td>c14bbc84-5041-4e70-bd64-3db51f7e80ae</td>\n",
       "      <td>Fully Paid</td>\n",
       "      <td>99999999</td>\n",
       "      <td>Short Term</td>\n",
       "      <td>745.0</td>\n",
       "      <td>10+ years</td>\n",
       "      <td>Rent</td>\n",
       "      <td>39476.0</td>\n",
       "      <td>other</td>\n",
       "      <td>483.579987</td>\n",
       "      <td>15.4</td>\n",
       "      <td>79.0</td>\n",
       "      <td>12</td>\n",
       "      <td>0</td>\n",
       "      <td>4636</td>\n",
       "      <td>21171.0</td>\n",
       "      <td>0.0</td>\n",
       "      <td>0.0</td>\n",
       "    </tr>\n",
       "    <tr>\n",
       "      <th>28</th>\n",
       "      <td>0004f37b-5859-40f6-98d0-367aa3b3f3f1</td>\n",
       "      <td>f662b062-5fa5-463d-b5c0-4e36d09fcab1</td>\n",
       "      <td>Fully Paid</td>\n",
       "      <td>99999999</td>\n",
       "      <td>Short Term</td>\n",
       "      <td>724.0</td>\n",
       "      <td>1 year</td>\n",
       "      <td>Own Home</td>\n",
       "      <td>34297.0</td>\n",
       "      <td>Home Improvements</td>\n",
       "      <td>777.380005</td>\n",
       "      <td>13.6</td>\n",
       "      <td>2.0</td>\n",
       "      <td>12</td>\n",
       "      <td>0</td>\n",
       "      <td>6720</td>\n",
       "      <td>53335.0</td>\n",
       "      <td>0.0</td>\n",
       "      <td>0.0</td>\n",
       "    </tr>\n",
       "    <tr>\n",
       "      <th>42</th>\n",
       "      <td>0008cacc-1ea9-4599-b114-12709b13c85d</td>\n",
       "      <td>cd853967-4535-4d36-bf93-269504c74911</td>\n",
       "      <td>Fully Paid</td>\n",
       "      <td>99999999</td>\n",
       "      <td>Short Term</td>\n",
       "      <td>750.0</td>\n",
       "      <td>10+ years</td>\n",
       "      <td>Own Home</td>\n",
       "      <td>86785.0</td>\n",
       "      <td>Other</td>\n",
       "      <td>56.410000</td>\n",
       "      <td>22.0</td>\n",
       "      <td>NaN</td>\n",
       "      <td>7</td>\n",
       "      <td>0</td>\n",
       "      <td>3959</td>\n",
       "      <td>63862.0</td>\n",
       "      <td>0.0</td>\n",
       "      <td>0.0</td>\n",
       "    </tr>\n",
       "    <tr>\n",
       "      <th>...</th>\n",
       "      <td>...</td>\n",
       "      <td>...</td>\n",
       "      <td>...</td>\n",
       "      <td>...</td>\n",
       "      <td>...</td>\n",
       "      <td>...</td>\n",
       "      <td>...</td>\n",
       "      <td>...</td>\n",
       "      <td>...</td>\n",
       "      <td>...</td>\n",
       "      <td>...</td>\n",
       "      <td>...</td>\n",
       "      <td>...</td>\n",
       "      <td>...</td>\n",
       "      <td>...</td>\n",
       "      <td>...</td>\n",
       "      <td>...</td>\n",
       "      <td>...</td>\n",
       "      <td>...</td>\n",
       "    </tr>\n",
       "    <tr>\n",
       "      <th>256938</th>\n",
       "      <td>fff2ae68-b9ca-4fb2-a53e-32684915bc6e</td>\n",
       "      <td>3a9268d1-a96b-4e7c-a022-8deea10d0b12</td>\n",
       "      <td>Fully Paid</td>\n",
       "      <td>99999999</td>\n",
       "      <td>Short Term</td>\n",
       "      <td>663.0</td>\n",
       "      <td>8 years</td>\n",
       "      <td>Home Mortgage</td>\n",
       "      <td>108482.0</td>\n",
       "      <td>Home Improvements</td>\n",
       "      <td>1365.069946</td>\n",
       "      <td>20.3</td>\n",
       "      <td>NaN</td>\n",
       "      <td>13</td>\n",
       "      <td>0</td>\n",
       "      <td>17264</td>\n",
       "      <td>23174.0</td>\n",
       "      <td>0.0</td>\n",
       "      <td>0.0</td>\n",
       "    </tr>\n",
       "    <tr>\n",
       "      <th>256953</th>\n",
       "      <td>fff72330-5397-4cbd-ad39-4d54bbc0dca9</td>\n",
       "      <td>a901d714-eaa1-4b31-b385-c51c0fa6eabd</td>\n",
       "      <td>Fully Paid</td>\n",
       "      <td>99999999</td>\n",
       "      <td>Short Term</td>\n",
       "      <td>698.0</td>\n",
       "      <td>7 years</td>\n",
       "      <td>Rent</td>\n",
       "      <td>65941.0</td>\n",
       "      <td>Debt Consolidation</td>\n",
       "      <td>1364.969971</td>\n",
       "      <td>21.5</td>\n",
       "      <td>NaN</td>\n",
       "      <td>16</td>\n",
       "      <td>0</td>\n",
       "      <td>19104</td>\n",
       "      <td>23556.0</td>\n",
       "      <td>0.0</td>\n",
       "      <td>0.0</td>\n",
       "    </tr>\n",
       "    <tr>\n",
       "      <th>256954</th>\n",
       "      <td>fff72f03-243b-422c-ab33-cb15e80e4c0d</td>\n",
       "      <td>f5cf8f78-6b65-4805-9b61-46086c441b08</td>\n",
       "      <td>Fully Paid</td>\n",
       "      <td>99999999</td>\n",
       "      <td>Short Term</td>\n",
       "      <td>742.0</td>\n",
       "      <td>10+ years</td>\n",
       "      <td>Rent</td>\n",
       "      <td>118128.0</td>\n",
       "      <td>Debt Consolidation</td>\n",
       "      <td>2608.659912</td>\n",
       "      <td>17.0</td>\n",
       "      <td>NaN</td>\n",
       "      <td>17</td>\n",
       "      <td>0</td>\n",
       "      <td>35089</td>\n",
       "      <td>55520.0</td>\n",
       "      <td>0.0</td>\n",
       "      <td>0.0</td>\n",
       "    </tr>\n",
       "    <tr>\n",
       "      <th>256963</th>\n",
       "      <td>fffb62c8-6149-4746-8b10-e1d2363f3b31</td>\n",
       "      <td>30e19db5-7ffe-4375-a253-f86dc565dfe8</td>\n",
       "      <td>Fully Paid</td>\n",
       "      <td>99999999</td>\n",
       "      <td>Short Term</td>\n",
       "      <td>738.0</td>\n",
       "      <td>10+ years</td>\n",
       "      <td>Rent</td>\n",
       "      <td>34749.0</td>\n",
       "      <td>Debt Consolidation</td>\n",
       "      <td>833.979980</td>\n",
       "      <td>11.0</td>\n",
       "      <td>25.0</td>\n",
       "      <td>17</td>\n",
       "      <td>0</td>\n",
       "      <td>3146</td>\n",
       "      <td>16050.0</td>\n",
       "      <td>0.0</td>\n",
       "      <td>0.0</td>\n",
       "    </tr>\n",
       "    <tr>\n",
       "      <th>256970</th>\n",
       "      <td>fffd06e2-01aa-4e93-8ccc-eb626a38cdac</td>\n",
       "      <td>2b469c36-cb73-4fcc-8525-dbfba2601e2c</td>\n",
       "      <td>Fully Paid</td>\n",
       "      <td>99999999</td>\n",
       "      <td>Short Term</td>\n",
       "      <td>734.0</td>\n",
       "      <td>10+ years</td>\n",
       "      <td>Home Mortgage</td>\n",
       "      <td>66809.0</td>\n",
       "      <td>Debt Consolidation</td>\n",
       "      <td>1046.680054</td>\n",
       "      <td>12.5</td>\n",
       "      <td>NaN</td>\n",
       "      <td>10</td>\n",
       "      <td>0</td>\n",
       "      <td>10013</td>\n",
       "      <td>28690.0</td>\n",
       "      <td>0.0</td>\n",
       "      <td>0.0</td>\n",
       "    </tr>\n",
       "  </tbody>\n",
       "</table>\n",
       "<p>35210 rows × 19 columns</p>\n",
       "</div>"
      ],
      "text/plain": [
       "                                     Loan ID  \\\n",
       "10      00020fb0-6b8a-4b3a-8c72-9c4c847e8cb6   \n",
       "16      0002c691-5314-44ab-b205-3fb1cc4ee6b2   \n",
       "23      0003fbfd-33ee-4ae9-8074-b46f6ff59281   \n",
       "28      0004f37b-5859-40f6-98d0-367aa3b3f3f1   \n",
       "42      0008cacc-1ea9-4599-b114-12709b13c85d   \n",
       "...                                      ...   \n",
       "256938  fff2ae68-b9ca-4fb2-a53e-32684915bc6e   \n",
       "256953  fff72330-5397-4cbd-ad39-4d54bbc0dca9   \n",
       "256954  fff72f03-243b-422c-ab33-cb15e80e4c0d   \n",
       "256963  fffb62c8-6149-4746-8b10-e1d2363f3b31   \n",
       "256970  fffd06e2-01aa-4e93-8ccc-eb626a38cdac   \n",
       "\n",
       "                                 Customer ID Loan Status  Current Loan Amount  \\\n",
       "10      c9decd06-16f7-44c3-b007-8776f2a9233d  Fully Paid             99999999   \n",
       "16      41207d1e-5d13-43ec-9fe9-f222b4da5e0c  Fully Paid             99999999   \n",
       "23      c14bbc84-5041-4e70-bd64-3db51f7e80ae  Fully Paid             99999999   \n",
       "28      f662b062-5fa5-463d-b5c0-4e36d09fcab1  Fully Paid             99999999   \n",
       "42      cd853967-4535-4d36-bf93-269504c74911  Fully Paid             99999999   \n",
       "...                                      ...         ...                  ...   \n",
       "256938  3a9268d1-a96b-4e7c-a022-8deea10d0b12  Fully Paid             99999999   \n",
       "256953  a901d714-eaa1-4b31-b385-c51c0fa6eabd  Fully Paid             99999999   \n",
       "256954  f5cf8f78-6b65-4805-9b61-46086c441b08  Fully Paid             99999999   \n",
       "256963  30e19db5-7ffe-4375-a253-f86dc565dfe8  Fully Paid             99999999   \n",
       "256970  2b469c36-cb73-4fcc-8525-dbfba2601e2c  Fully Paid             99999999   \n",
       "\n",
       "              Term  Credit Score Years in current job Home Ownership  \\\n",
       "10      Short Term         742.0              3 years  Home Mortgage   \n",
       "16      Short Term         744.0              6 years  Home Mortgage   \n",
       "23      Short Term         745.0            10+ years           Rent   \n",
       "28      Short Term         724.0               1 year       Own Home   \n",
       "42      Short Term         750.0            10+ years       Own Home   \n",
       "...            ...           ...                  ...            ...   \n",
       "256938  Short Term         663.0              8 years  Home Mortgage   \n",
       "256953  Short Term         698.0              7 years           Rent   \n",
       "256954  Short Term         742.0            10+ years           Rent   \n",
       "256963  Short Term         738.0            10+ years           Rent   \n",
       "256970  Short Term         734.0            10+ years  Home Mortgage   \n",
       "\n",
       "        Annual Income             Purpose  Monthly Debt  \\\n",
       "10            64760.0  Debt Consolidation    582.840027   \n",
       "16            65605.0  Debt Consolidation    984.070007   \n",
       "23            39476.0               other    483.579987   \n",
       "28            34297.0   Home Improvements    777.380005   \n",
       "42            86785.0               Other     56.410000   \n",
       "...               ...                 ...           ...   \n",
       "256938       108482.0   Home Improvements   1365.069946   \n",
       "256953        65941.0  Debt Consolidation   1364.969971   \n",
       "256954       118128.0  Debt Consolidation   2608.659912   \n",
       "256963        34749.0  Debt Consolidation    833.979980   \n",
       "256970        66809.0  Debt Consolidation   1046.680054   \n",
       "\n",
       "        Years of Credit History  Months since last delinquent  \\\n",
       "10                         26.8                           NaN   \n",
       "16                         21.0                           NaN   \n",
       "23                         15.4                          79.0   \n",
       "28                         13.6                           2.0   \n",
       "42                         22.0                           NaN   \n",
       "...                         ...                           ...   \n",
       "256938                     20.3                           NaN   \n",
       "256953                     21.5                           NaN   \n",
       "256954                     17.0                           NaN   \n",
       "256963                     11.0                          25.0   \n",
       "256970                     12.5                           NaN   \n",
       "\n",
       "        Number of Open Accounts  Number of Credit Problems  \\\n",
       "10                           11                          0   \n",
       "16                            5                          1   \n",
       "23                           12                          0   \n",
       "28                           12                          0   \n",
       "42                            7                          0   \n",
       "...                         ...                        ...   \n",
       "256938                       13                          0   \n",
       "256953                       16                          0   \n",
       "256954                       17                          0   \n",
       "256963                       17                          0   \n",
       "256970                       10                          0   \n",
       "\n",
       "        Current Credit Balance  Maximum Open Credit  Bankruptcies  Tax Liens  \n",
       "10                        8880              22711.0           0.0        0.0  \n",
       "16                       11514              17262.0           1.0        0.0  \n",
       "23                        4636              21171.0           0.0        0.0  \n",
       "28                        6720              53335.0           0.0        0.0  \n",
       "42                        3959              63862.0           0.0        0.0  \n",
       "...                        ...                  ...           ...        ...  \n",
       "256938                   17264              23174.0           0.0        0.0  \n",
       "256953                   19104              23556.0           0.0        0.0  \n",
       "256954                   35089              55520.0           0.0        0.0  \n",
       "256963                    3146              16050.0           0.0        0.0  \n",
       "256970                   10013              28690.0           0.0        0.0  \n",
       "\n",
       "[35210 rows x 19 columns]"
      ]
     },
     "execution_count": 16,
     "metadata": {},
     "output_type": "execute_result"
    }
   ],
   "source": [
    "df[df['Current Loan Amount'] > 0.8e8]"
   ]
  },
  {
   "cell_type": "code",
   "execution_count": 17,
   "id": "bb8c5d97",
   "metadata": {},
   "outputs": [],
   "source": [
    "# the size of the Current Loan Amount = 99999999 may be indicate a short-term loan of 100 MLN \n",
    "# but is more likely to indicate a missing value"
   ]
  },
  {
   "cell_type": "code",
   "execution_count": 18,
   "id": "d6449499",
   "metadata": {},
   "outputs": [],
   "source": [
    "df['Current Loan Amount']=df['Current Loan Amount'].replace(99999999, np.nan)"
   ]
  },
  {
   "cell_type": "code",
   "execution_count": 19,
   "id": "4e02adf5",
   "metadata": {},
   "outputs": [
    {
     "data": {
      "text/html": [
       "<div>\n",
       "<style scoped>\n",
       "    .dataframe tbody tr th:only-of-type {\n",
       "        vertical-align: middle;\n",
       "    }\n",
       "\n",
       "    .dataframe tbody tr th {\n",
       "        vertical-align: top;\n",
       "    }\n",
       "\n",
       "    .dataframe thead th {\n",
       "        text-align: right;\n",
       "    }\n",
       "</style>\n",
       "<table border=\"1\" class=\"dataframe\">\n",
       "  <thead>\n",
       "    <tr style=\"text-align: right;\">\n",
       "      <th></th>\n",
       "      <th>Loan ID</th>\n",
       "      <th>Customer ID</th>\n",
       "      <th>Loan Status</th>\n",
       "      <th>Current Loan Amount</th>\n",
       "      <th>Term</th>\n",
       "      <th>Credit Score</th>\n",
       "      <th>Years in current job</th>\n",
       "      <th>Home Ownership</th>\n",
       "      <th>Annual Income</th>\n",
       "      <th>Purpose</th>\n",
       "      <th>Monthly Debt</th>\n",
       "      <th>Years of Credit History</th>\n",
       "      <th>Months since last delinquent</th>\n",
       "      <th>Number of Open Accounts</th>\n",
       "      <th>Number of Credit Problems</th>\n",
       "      <th>Current Credit Balance</th>\n",
       "      <th>Maximum Open Credit</th>\n",
       "      <th>Bankruptcies</th>\n",
       "      <th>Tax Liens</th>\n",
       "    </tr>\n",
       "  </thead>\n",
       "  <tbody>\n",
       "  </tbody>\n",
       "</table>\n",
       "</div>"
      ],
      "text/plain": [
       "Empty DataFrame\n",
       "Columns: [Loan ID, Customer ID, Loan Status, Current Loan Amount, Term, Credit Score, Years in current job, Home Ownership, Annual Income, Purpose, Monthly Debt, Years of Credit History, Months since last delinquent, Number of Open Accounts, Number of Credit Problems, Current Credit Balance, Maximum Open Credit, Bankruptcies, Tax Liens]\n",
       "Index: []"
      ]
     },
     "execution_count": 19,
     "metadata": {},
     "output_type": "execute_result"
    }
   ],
   "source": [
    "df[df['Current Loan Amount']> 0.8e8]"
   ]
  },
  {
   "cell_type": "code",
   "execution_count": 20,
   "id": "cbe0f02d",
   "metadata": {},
   "outputs": [
    {
     "data": {
      "text/plain": [
       "<Figure size 432x288 with 0 Axes>"
      ]
     },
     "metadata": {},
     "output_type": "display_data"
    },
    {
     "data": {
      "image/png": "[encoded data removed]",
      "text/plain": [
       "<Figure size 864x576 with 12 Axes>"
      ]
     },
     "metadata": {
      "needs_background": "light"
     },
     "output_type": "display_data"
    }
   ],
   "source": [
    "plt.figure();\n",
    "df.hist(color=\"b\", alpha=0.5, bins=50, figsize=(12, 8));"
   ]
  },
  {
   "cell_type": "code",
   "execution_count": 23,
   "id": "406836be",
   "metadata": {},
   "outputs": [
    {
     "data": {
      "text/plain": [
       "0         741.0\n",
       "1         734.0\n",
       "2         747.0\n",
       "3         747.0\n",
       "4         746.0\n",
       "          ...  \n",
       "256976    700.0\n",
       "256978    717.0\n",
       "256980    737.0\n",
       "256982    746.0\n",
       "256983    678.0\n",
       "Name: Credit Score, Length: 179121, dtype: float64"
      ]
     },
     "execution_count": 23,
     "metadata": {},
     "output_type": "execute_result"
    }
   ],
   "source": [
    "df[df['Credit Score'] < 1000]['Credit Score']"
   ]
  },
  {
   "cell_type": "code",
   "execution_count": 22,
   "id": "af368a26",
   "metadata": {},
   "outputs": [
    {
     "data": {
      "text/plain": [
       "6         6640.0\n",
       "55        7320.0\n",
       "71        7180.0\n",
       "73        6670.0\n",
       "79        7270.0\n",
       "           ...  \n",
       "256946    7450.0\n",
       "256948    7220.0\n",
       "256952    7410.0\n",
       "256977    7170.0\n",
       "256981    7460.0\n",
       "Name: Credit Score, Length: 16187, dtype: float64"
      ]
     },
     "execution_count": 22,
     "metadata": {},
     "output_type": "execute_result"
    }
   ],
   "source": [
    "df[df['Credit Score'] > 1000]['Credit Score']"
   ]
  },
  {
   "cell_type": "code",
   "execution_count": 25,
   "id": "549d4e61",
   "metadata": {},
   "outputs": [],
   "source": [
    "# it appears that crerdit scores for ovwe 16 000 individuals are 10 times as high as the rest\n",
    "# the line below divides that data"
   ]
  },
  {
   "cell_type": "code",
   "execution_count": 26,
   "id": "a2d3e5e0",
   "metadata": {},
   "outputs": [],
   "source": [
    "df['Credit Score'] = np.where( df['Credit Score'] > 1000, df['Credit Score']/10, df['Credit Score'])"
   ]
  },
  {
   "cell_type": "code",
   "execution_count": 27,
   "id": "947babee",
   "metadata": {},
   "outputs": [
    {
     "data": {
      "text/html": [
       "<div>\n",
       "<style scoped>\n",
       "    .dataframe tbody tr th:only-of-type {\n",
       "        vertical-align: middle;\n",
       "    }\n",
       "\n",
       "    .dataframe tbody tr th {\n",
       "        vertical-align: top;\n",
       "    }\n",
       "\n",
       "    .dataframe thead th {\n",
       "        text-align: right;\n",
       "    }\n",
       "</style>\n",
       "<table border=\"1\" class=\"dataframe\">\n",
       "  <thead>\n",
       "    <tr style=\"text-align: right;\">\n",
       "      <th></th>\n",
       "      <th>Loan ID</th>\n",
       "      <th>Customer ID</th>\n",
       "      <th>Loan Status</th>\n",
       "      <th>Current Loan Amount</th>\n",
       "      <th>Term</th>\n",
       "      <th>Credit Score</th>\n",
       "      <th>Years in current job</th>\n",
       "      <th>Home Ownership</th>\n",
       "      <th>Annual Income</th>\n",
       "      <th>Purpose</th>\n",
       "      <th>Monthly Debt</th>\n",
       "      <th>Years of Credit History</th>\n",
       "      <th>Months since last delinquent</th>\n",
       "      <th>Number of Open Accounts</th>\n",
       "      <th>Number of Credit Problems</th>\n",
       "      <th>Current Credit Balance</th>\n",
       "      <th>Maximum Open Credit</th>\n",
       "      <th>Bankruptcies</th>\n",
       "      <th>Tax Liens</th>\n",
       "    </tr>\n",
       "  </thead>\n",
       "  <tbody>\n",
       "    <tr>\n",
       "      <th>34065</th>\n",
       "      <td>21ea699e-4eea-4908-9d67-7ae36f31d221</td>\n",
       "      <td>4e0d2d18-db25-40f6-ab3a-7746cd676d2e</td>\n",
       "      <td>Fully Paid</td>\n",
       "      <td>NaN</td>\n",
       "      <td>Short Term</td>\n",
       "      <td>746.0</td>\n",
       "      <td>10+ years</td>\n",
       "      <td>Home Mortgage</td>\n",
       "      <td>5879400.0</td>\n",
       "      <td>Home Improvements</td>\n",
       "      <td>783.919983</td>\n",
       "      <td>14.9</td>\n",
       "      <td>40.0</td>\n",
       "      <td>4</td>\n",
       "      <td>0</td>\n",
       "      <td>8917</td>\n",
       "      <td>9308.0</td>\n",
       "      <td>0.0</td>\n",
       "      <td>0.0</td>\n",
       "    </tr>\n",
       "    <tr>\n",
       "      <th>39791</th>\n",
       "      <td>2790a78c-3405-4403-b9fa-c46dcb296c02</td>\n",
       "      <td>824b8012-5314-453d-aa28-b9ee9e4bfded</td>\n",
       "      <td>Fully Paid</td>\n",
       "      <td>NaN</td>\n",
       "      <td>Short Term</td>\n",
       "      <td>735.0</td>\n",
       "      <td>7 years</td>\n",
       "      <td>Home Mortgage</td>\n",
       "      <td>2267570.0</td>\n",
       "      <td>Home Improvements</td>\n",
       "      <td>4516.240234</td>\n",
       "      <td>16.4</td>\n",
       "      <td>NaN</td>\n",
       "      <td>8</td>\n",
       "      <td>0</td>\n",
       "      <td>40925</td>\n",
       "      <td>42017.0</td>\n",
       "      <td>0.0</td>\n",
       "      <td>0.0</td>\n",
       "    </tr>\n",
       "    <tr>\n",
       "      <th>110725</th>\n",
       "      <td>6dfd2f9c-b796-4cb3-8f71-04d6ae8a8f92</td>\n",
       "      <td>ceee183a-9b02-4b82-ae53-14ccd5f785fd</td>\n",
       "      <td>Charged Off</td>\n",
       "      <td>8006.0</td>\n",
       "      <td>Short Term</td>\n",
       "      <td>725.0</td>\n",
       "      <td>10+ years</td>\n",
       "      <td>Home Mortgage</td>\n",
       "      <td>8713547.0</td>\n",
       "      <td>Debt Consolidation</td>\n",
       "      <td>798.739990</td>\n",
       "      <td>16.0</td>\n",
       "      <td>NaN</td>\n",
       "      <td>11</td>\n",
       "      <td>0</td>\n",
       "      <td>16462</td>\n",
       "      <td>30429.0</td>\n",
       "      <td>0.0</td>\n",
       "      <td>0.0</td>\n",
       "    </tr>\n",
       "    <tr>\n",
       "      <th>110726</th>\n",
       "      <td>6dfd2f9c-b796-4cb3-8f71-04d6ae8a8f92</td>\n",
       "      <td>ceee183a-9b02-4b82-ae53-14ccd5f785fd</td>\n",
       "      <td>Charged Off</td>\n",
       "      <td>8006.0</td>\n",
       "      <td>Short Term</td>\n",
       "      <td>725.0</td>\n",
       "      <td>10+ years</td>\n",
       "      <td>Home Mortgage</td>\n",
       "      <td>8713547.0</td>\n",
       "      <td>Debt Consolidation</td>\n",
       "      <td>798.739990</td>\n",
       "      <td>16.0</td>\n",
       "      <td>NaN</td>\n",
       "      <td>11</td>\n",
       "      <td>0</td>\n",
       "      <td>16462</td>\n",
       "      <td>30429.0</td>\n",
       "      <td>0.0</td>\n",
       "      <td>0.0</td>\n",
       "    </tr>\n",
       "    <tr>\n",
       "      <th>169514</th>\n",
       "      <td>a88c6d42-44b3-4a29-afdf-84e31a4ce246</td>\n",
       "      <td>419bfdfe-66fa-4e7e-a568-e4e090c39796</td>\n",
       "      <td>Fully Paid</td>\n",
       "      <td>9899.0</td>\n",
       "      <td>Short Term</td>\n",
       "      <td>748.0</td>\n",
       "      <td>3 years</td>\n",
       "      <td>Home Mortgage</td>\n",
       "      <td>7523240.0</td>\n",
       "      <td>Home Improvements</td>\n",
       "      <td>564.239990</td>\n",
       "      <td>27.4</td>\n",
       "      <td>21.0</td>\n",
       "      <td>18</td>\n",
       "      <td>0</td>\n",
       "      <td>2469</td>\n",
       "      <td>15725.0</td>\n",
       "      <td>0.0</td>\n",
       "      <td>0.0</td>\n",
       "    </tr>\n",
       "  </tbody>\n",
       "</table>\n",
       "</div>"
      ],
      "text/plain": [
       "                                     Loan ID  \\\n",
       "34065   21ea699e-4eea-4908-9d67-7ae36f31d221   \n",
       "39791   2790a78c-3405-4403-b9fa-c46dcb296c02   \n",
       "110725  6dfd2f9c-b796-4cb3-8f71-04d6ae8a8f92   \n",
       "110726  6dfd2f9c-b796-4cb3-8f71-04d6ae8a8f92   \n",
       "169514  a88c6d42-44b3-4a29-afdf-84e31a4ce246   \n",
       "\n",
       "                                 Customer ID  Loan Status  \\\n",
       "34065   4e0d2d18-db25-40f6-ab3a-7746cd676d2e   Fully Paid   \n",
       "39791   824b8012-5314-453d-aa28-b9ee9e4bfded   Fully Paid   \n",
       "110725  ceee183a-9b02-4b82-ae53-14ccd5f785fd  Charged Off   \n",
       "110726  ceee183a-9b02-4b82-ae53-14ccd5f785fd  Charged Off   \n",
       "169514  419bfdfe-66fa-4e7e-a568-e4e090c39796   Fully Paid   \n",
       "\n",
       "        Current Loan Amount        Term  Credit Score Years in current job  \\\n",
       "34065                   NaN  Short Term         746.0            10+ years   \n",
       "39791                   NaN  Short Term         735.0              7 years   \n",
       "110725               8006.0  Short Term         725.0            10+ years   \n",
       "110726               8006.0  Short Term         725.0            10+ years   \n",
       "169514               9899.0  Short Term         748.0              3 years   \n",
       "\n",
       "       Home Ownership  Annual Income             Purpose  Monthly Debt  \\\n",
       "34065   Home Mortgage      5879400.0   Home Improvements    783.919983   \n",
       "39791   Home Mortgage      2267570.0   Home Improvements   4516.240234   \n",
       "110725  Home Mortgage      8713547.0  Debt Consolidation    798.739990   \n",
       "110726  Home Mortgage      8713547.0  Debt Consolidation    798.739990   \n",
       "169514  Home Mortgage      7523240.0   Home Improvements    564.239990   \n",
       "\n",
       "        Years of Credit History  Months since last delinquent  \\\n",
       "34065                      14.9                          40.0   \n",
       "39791                      16.4                           NaN   \n",
       "110725                     16.0                           NaN   \n",
       "110726                     16.0                           NaN   \n",
       "169514                     27.4                          21.0   \n",
       "\n",
       "        Number of Open Accounts  Number of Credit Problems  \\\n",
       "34065                         4                          0   \n",
       "39791                         8                          0   \n",
       "110725                       11                          0   \n",
       "110726                       11                          0   \n",
       "169514                       18                          0   \n",
       "\n",
       "        Current Credit Balance  Maximum Open Credit  Bankruptcies  Tax Liens  \n",
       "34065                     8917               9308.0           0.0        0.0  \n",
       "39791                    40925              42017.0           0.0        0.0  \n",
       "110725                   16462              30429.0           0.0        0.0  \n",
       "110726                   16462              30429.0           0.0        0.0  \n",
       "169514                    2469              15725.0           0.0        0.0  "
      ]
     },
     "execution_count": 27,
     "metadata": {},
     "output_type": "execute_result"
    }
   ],
   "source": [
    "df[df['Annual Income'] > 2e6]"
   ]
  },
  {
   "cell_type": "code",
   "execution_count": 28,
   "id": "31c9edc1",
   "metadata": {},
   "outputs": [],
   "source": [
    "# Annual income looks possible\n",
    "# records 110725 amd 110726 are identical\n",
    "df.drop(110726,inplace=True);"
   ]
  },
  {
   "cell_type": "code",
   "execution_count": 29,
   "id": "a85dd680",
   "metadata": {},
   "outputs": [
    {
     "data": {
      "text/html": [
       "<div>\n",
       "<style scoped>\n",
       "    .dataframe tbody tr th:only-of-type {\n",
       "        vertical-align: middle;\n",
       "    }\n",
       "\n",
       "    .dataframe tbody tr th {\n",
       "        vertical-align: top;\n",
       "    }\n",
       "\n",
       "    .dataframe thead th {\n",
       "        text-align: right;\n",
       "    }\n",
       "</style>\n",
       "<table border=\"1\" class=\"dataframe\">\n",
       "  <thead>\n",
       "    <tr style=\"text-align: right;\">\n",
       "      <th></th>\n",
       "      <th>Loan ID</th>\n",
       "      <th>Customer ID</th>\n",
       "      <th>Loan Status</th>\n",
       "      <th>Current Loan Amount</th>\n",
       "      <th>Term</th>\n",
       "      <th>Credit Score</th>\n",
       "      <th>Years in current job</th>\n",
       "      <th>Home Ownership</th>\n",
       "      <th>Annual Income</th>\n",
       "      <th>Purpose</th>\n",
       "      <th>Monthly Debt</th>\n",
       "      <th>Years of Credit History</th>\n",
       "      <th>Months since last delinquent</th>\n",
       "      <th>Number of Open Accounts</th>\n",
       "      <th>Number of Credit Problems</th>\n",
       "      <th>Current Credit Balance</th>\n",
       "      <th>Maximum Open Credit</th>\n",
       "      <th>Bankruptcies</th>\n",
       "      <th>Tax Liens</th>\n",
       "    </tr>\n",
       "  </thead>\n",
       "  <tbody>\n",
       "    <tr>\n",
       "      <th>34065</th>\n",
       "      <td>21ea699e-4eea-4908-9d67-7ae36f31d221</td>\n",
       "      <td>4e0d2d18-db25-40f6-ab3a-7746cd676d2e</td>\n",
       "      <td>Fully Paid</td>\n",
       "      <td>NaN</td>\n",
       "      <td>Short Term</td>\n",
       "      <td>746.0</td>\n",
       "      <td>10+ years</td>\n",
       "      <td>Home Mortgage</td>\n",
       "      <td>5879400.0</td>\n",
       "      <td>Home Improvements</td>\n",
       "      <td>783.919983</td>\n",
       "      <td>14.9</td>\n",
       "      <td>40.0</td>\n",
       "      <td>4</td>\n",
       "      <td>0</td>\n",
       "      <td>8917</td>\n",
       "      <td>9308.0</td>\n",
       "      <td>0.0</td>\n",
       "      <td>0.0</td>\n",
       "    </tr>\n",
       "    <tr>\n",
       "      <th>39791</th>\n",
       "      <td>2790a78c-3405-4403-b9fa-c46dcb296c02</td>\n",
       "      <td>824b8012-5314-453d-aa28-b9ee9e4bfded</td>\n",
       "      <td>Fully Paid</td>\n",
       "      <td>NaN</td>\n",
       "      <td>Short Term</td>\n",
       "      <td>735.0</td>\n",
       "      <td>7 years</td>\n",
       "      <td>Home Mortgage</td>\n",
       "      <td>2267570.0</td>\n",
       "      <td>Home Improvements</td>\n",
       "      <td>4516.240234</td>\n",
       "      <td>16.4</td>\n",
       "      <td>NaN</td>\n",
       "      <td>8</td>\n",
       "      <td>0</td>\n",
       "      <td>40925</td>\n",
       "      <td>42017.0</td>\n",
       "      <td>0.0</td>\n",
       "      <td>0.0</td>\n",
       "    </tr>\n",
       "    <tr>\n",
       "      <th>110725</th>\n",
       "      <td>6dfd2f9c-b796-4cb3-8f71-04d6ae8a8f92</td>\n",
       "      <td>ceee183a-9b02-4b82-ae53-14ccd5f785fd</td>\n",
       "      <td>Charged Off</td>\n",
       "      <td>8006.0</td>\n",
       "      <td>Short Term</td>\n",
       "      <td>725.0</td>\n",
       "      <td>10+ years</td>\n",
       "      <td>Home Mortgage</td>\n",
       "      <td>8713547.0</td>\n",
       "      <td>Debt Consolidation</td>\n",
       "      <td>798.739990</td>\n",
       "      <td>16.0</td>\n",
       "      <td>NaN</td>\n",
       "      <td>11</td>\n",
       "      <td>0</td>\n",
       "      <td>16462</td>\n",
       "      <td>30429.0</td>\n",
       "      <td>0.0</td>\n",
       "      <td>0.0</td>\n",
       "    </tr>\n",
       "    <tr>\n",
       "      <th>169514</th>\n",
       "      <td>a88c6d42-44b3-4a29-afdf-84e31a4ce246</td>\n",
       "      <td>419bfdfe-66fa-4e7e-a568-e4e090c39796</td>\n",
       "      <td>Fully Paid</td>\n",
       "      <td>9899.0</td>\n",
       "      <td>Short Term</td>\n",
       "      <td>748.0</td>\n",
       "      <td>3 years</td>\n",
       "      <td>Home Mortgage</td>\n",
       "      <td>7523240.0</td>\n",
       "      <td>Home Improvements</td>\n",
       "      <td>564.239990</td>\n",
       "      <td>27.4</td>\n",
       "      <td>21.0</td>\n",
       "      <td>18</td>\n",
       "      <td>0</td>\n",
       "      <td>2469</td>\n",
       "      <td>15725.0</td>\n",
       "      <td>0.0</td>\n",
       "      <td>0.0</td>\n",
       "    </tr>\n",
       "  </tbody>\n",
       "</table>\n",
       "</div>"
      ],
      "text/plain": [
       "                                     Loan ID  \\\n",
       "34065   21ea699e-4eea-4908-9d67-7ae36f31d221   \n",
       "39791   2790a78c-3405-4403-b9fa-c46dcb296c02   \n",
       "110725  6dfd2f9c-b796-4cb3-8f71-04d6ae8a8f92   \n",
       "169514  a88c6d42-44b3-4a29-afdf-84e31a4ce246   \n",
       "\n",
       "                                 Customer ID  Loan Status  \\\n",
       "34065   4e0d2d18-db25-40f6-ab3a-7746cd676d2e   Fully Paid   \n",
       "39791   824b8012-5314-453d-aa28-b9ee9e4bfded   Fully Paid   \n",
       "110725  ceee183a-9b02-4b82-ae53-14ccd5f785fd  Charged Off   \n",
       "169514  419bfdfe-66fa-4e7e-a568-e4e090c39796   Fully Paid   \n",
       "\n",
       "        Current Loan Amount        Term  Credit Score Years in current job  \\\n",
       "34065                   NaN  Short Term         746.0            10+ years   \n",
       "39791                   NaN  Short Term         735.0              7 years   \n",
       "110725               8006.0  Short Term         725.0            10+ years   \n",
       "169514               9899.0  Short Term         748.0              3 years   \n",
       "\n",
       "       Home Ownership  Annual Income             Purpose  Monthly Debt  \\\n",
       "34065   Home Mortgage      5879400.0   Home Improvements    783.919983   \n",
       "39791   Home Mortgage      2267570.0   Home Improvements   4516.240234   \n",
       "110725  Home Mortgage      8713547.0  Debt Consolidation    798.739990   \n",
       "169514  Home Mortgage      7523240.0   Home Improvements    564.239990   \n",
       "\n",
       "        Years of Credit History  Months since last delinquent  \\\n",
       "34065                      14.9                          40.0   \n",
       "39791                      16.4                           NaN   \n",
       "110725                     16.0                           NaN   \n",
       "169514                     27.4                          21.0   \n",
       "\n",
       "        Number of Open Accounts  Number of Credit Problems  \\\n",
       "34065                         4                          0   \n",
       "39791                         8                          0   \n",
       "110725                       11                          0   \n",
       "169514                       18                          0   \n",
       "\n",
       "        Current Credit Balance  Maximum Open Credit  Bankruptcies  Tax Liens  \n",
       "34065                     8917               9308.0           0.0        0.0  \n",
       "39791                    40925              42017.0           0.0        0.0  \n",
       "110725                   16462              30429.0           0.0        0.0  \n",
       "169514                    2469              15725.0           0.0        0.0  "
      ]
     },
     "execution_count": 29,
     "metadata": {},
     "output_type": "execute_result"
    }
   ],
   "source": [
    "df[df['Annual Income'] > 2e6]"
   ]
  },
  {
   "cell_type": "code",
   "execution_count": 32,
   "id": "41b9165f",
   "metadata": {},
   "outputs": [
    {
     "data": {
      "text/plain": [
       "50301      635869\n",
       "62025      620865\n",
       "64449     1731412\n",
       "91116      690447\n",
       "113169     581847\n",
       "147395     651469\n",
       "158824     597996\n",
       "171383     560563\n",
       "174767     611537\n",
       "181605     553322\n",
       "188421     515169\n",
       "188422     515169\n",
       "188572     575644\n",
       "194645    1730472\n",
       "194646    1730472\n",
       "206401     642425\n",
       "206402     642817\n",
       "206403     642425\n",
       "206404     642817\n",
       "209116     609289\n",
       "215311     573075\n",
       "216996     664495\n",
       "220310     854602\n",
       "220311     854602\n",
       "221770     654294\n",
       "227883     818209\n",
       "239235     512671\n",
       "Name: Current Credit Balance, dtype: int64"
      ]
     },
     "execution_count": 32,
     "metadata": {},
     "output_type": "execute_result"
    }
   ],
   "source": [
    "df[df['Current Credit Balance'] > 0.5e6]['Current Credit Balance']"
   ]
  },
  {
   "cell_type": "code",
   "execution_count": 33,
   "id": "92422bcd",
   "metadata": {},
   "outputs": [
    {
     "data": {
      "text/plain": [
       "Loan ID                              0\n",
       "Customer ID                          0\n",
       "Loan Status                          0\n",
       "Current Loan Amount              35210\n",
       "Term                                 0\n",
       "Credit Score                     61676\n",
       "Years in current job             11476\n",
       "Home Ownership                       0\n",
       "Annual Income                    61676\n",
       "Purpose                              0\n",
       "Monthly Debt                         0\n",
       "Years of Credit History              0\n",
       "Months since last delinquent    140382\n",
       "Number of Open Accounts              0\n",
       "Number of Credit Problems            0\n",
       "Current Credit Balance               0\n",
       "Maximum Open Credit                  4\n",
       "Bankruptcies                       529\n",
       "Tax Liens                           23\n",
       "dtype: int64"
      ]
     },
     "execution_count": 33,
     "metadata": {},
     "output_type": "execute_result"
    }
   ],
   "source": [
    "df.isnull().sum()"
   ]
  },
  {
   "cell_type": "code",
   "execution_count": null,
   "id": "40309d6e",
   "metadata": {},
   "outputs": [],
   "source": [
    "# remove 'Months since last delinquent', as well as Loan ID and Customer ID columns"
   ]
  },
  {
   "cell_type": "code",
   "execution_count": 34,
   "id": "6300018e",
   "metadata": {},
   "outputs": [],
   "source": [
    "df_new=df.drop(['Loan ID', 'Customer ID', 'Months since last delinquent'], axis=1)"
   ]
  },
  {
   "cell_type": "code",
   "execution_count": 35,
   "id": "4e8f437f",
   "metadata": {},
   "outputs": [],
   "source": [
    "# remove alll rows with NaN"
   ]
  },
  {
   "cell_type": "code",
   "execution_count": 36,
   "id": "3e97a07a",
   "metadata": {},
   "outputs": [],
   "source": [
    "df_new=df_new.dropna(axis=0)"
   ]
  },
  {
   "cell_type": "code",
   "execution_count": 37,
   "id": "a10ec299",
   "metadata": {},
   "outputs": [
    {
     "data": {
      "text/plain": [
       "(152331, 16)"
      ]
     },
     "execution_count": 37,
     "metadata": {},
     "output_type": "execute_result"
    }
   ],
   "source": [
    "df_new.shape"
   ]
  },
  {
   "cell_type": "code",
   "execution_count": 38,
   "id": "c0f80f3a",
   "metadata": {},
   "outputs": [
    {
     "data": {
      "text/plain": [
       "<Figure size 432x288 with 0 Axes>"
      ]
     },
     "metadata": {},
     "output_type": "display_data"
    },
    {
     "data": {
      "image/png": "[encoded data removed]",
      "text/plain": [
       "<Figure size 864x576 with 12 Axes>"
      ]
     },
     "metadata": {
      "needs_background": "light"
     },
     "output_type": "display_data"
    }
   ],
   "source": [
    "plt.figure();\n",
    "df_new.hist(color=\"k\", alpha=0.5, bins=50, figsize=(12, 8));"
   ]
  },
  {
   "cell_type": "code",
   "execution_count": 152,
   "id": "9fa7be6a",
   "metadata": {},
   "outputs": [
    {
     "data": {
      "text/plain": [
       "17"
      ]
     },
     "execution_count": 152,
     "metadata": {},
     "output_type": "execute_result"
    }
   ],
   "source": [
    "len(df_new[df_new['Annual Income'] > 1e6])"
   ]
  },
  {
   "cell_type": "code",
   "execution_count": 156,
   "id": "aaf91cd8",
   "metadata": {},
   "outputs": [
    {
     "data": {
      "text/plain": [
       "Int64Index([ 20887,  41478,  59207,  70592,  81435,  93584, 110725, 123811,\n",
       "            144081, 169514, 171828, 179983, 184044, 198369, 204833, 204834,\n",
       "            206759],\n",
       "           dtype='int64')"
      ]
     },
     "execution_count": 156,
     "metadata": {},
     "output_type": "execute_result"
    }
   ],
   "source": [
    "df_new[df_new['Annual Income'] > 1e6].index"
   ]
  },
  {
   "cell_type": "code",
   "execution_count": 161,
   "id": "7833840a",
   "metadata": {},
   "outputs": [],
   "source": [
    "#df_new.drop(df_new[df_new['Annual Income'] > 1e6].index, inplace = True)"
   ]
  },
  {
   "cell_type": "code",
   "execution_count": 153,
   "id": "8c8bc061",
   "metadata": {},
   "outputs": [
    {
     "data": {
      "text/plain": [
       "1"
      ]
     },
     "execution_count": 153,
     "metadata": {},
     "output_type": "execute_result"
    }
   ],
   "source": [
    "len(df_new[df_new['Current Credit Balance'] > 1e6]) # these can be removed"
   ]
  },
  {
   "cell_type": "code",
   "execution_count": 39,
   "id": "a2508fbe",
   "metadata": {},
   "outputs": [],
   "source": [
    "df_new.drop(df_new[df_new['Current Credit Balance'] > 1e6].index, inplace = True)"
   ]
  },
  {
   "cell_type": "code",
   "execution_count": 40,
   "id": "8b8204dc",
   "metadata": {},
   "outputs": [
    {
     "data": {
      "text/plain": [
       "6"
      ]
     },
     "execution_count": 40,
     "metadata": {},
     "output_type": "execute_result"
    }
   ],
   "source": [
    "len(df_new[df_new['Maximum Open Credit'] > 0.2e8])"
   ]
  },
  {
   "cell_type": "code",
   "execution_count": 41,
   "id": "d4b7cbea",
   "metadata": {},
   "outputs": [
    {
     "data": {
      "text/plain": [
       "65497     36284335.0\n",
       "118747    26211875.0\n",
       "118748    26211875.0\n",
       "152015    96708247.0\n",
       "241241    69988086.0\n",
       "252920    44559330.0\n",
       "Name: Maximum Open Credit, dtype: float64"
      ]
     },
     "execution_count": 41,
     "metadata": {},
     "output_type": "execute_result"
    }
   ],
   "source": [
    "df_new[df_new['Maximum Open Credit'] > 0.2e8]['Maximum Open Credit']"
   ]
  },
  {
   "cell_type": "code",
   "execution_count": 163,
   "id": "f96288f0",
   "metadata": {},
   "outputs": [],
   "source": [
    "#df_new.drop(df_new[df_new['Maximum Open Credit'] > 0.2e8].index, inplace = True)"
   ]
  },
  {
   "cell_type": "code",
   "execution_count": 42,
   "id": "ef5fcf7b",
   "metadata": {},
   "outputs": [
    {
     "data": {
      "text/plain": [
       "(152330, 16)"
      ]
     },
     "execution_count": 42,
     "metadata": {},
     "output_type": "execute_result"
    }
   ],
   "source": [
    "df_new.shape"
   ]
  },
  {
   "cell_type": "code",
   "execution_count": 43,
   "id": "004fc8c3",
   "metadata": {},
   "outputs": [
    {
     "data": {
      "text/plain": [
       "<Figure size 432x288 with 0 Axes>"
      ]
     },
     "metadata": {},
     "output_type": "display_data"
    },
    {
     "data": {
      "image/png": "[encoded data removed]",
      "text/plain": [
       "<Figure size 864x576 with 12 Axes>"
      ]
     },
     "metadata": {
      "needs_background": "light"
     },
     "output_type": "display_data"
    }
   ],
   "source": [
    "plt.figure();\n",
    "df_new.hist(color=\"k\", alpha=0.5, bins=50, figsize=(12, 8));"
   ]
  },
  {
   "cell_type": "code",
   "execution_count": 44,
   "id": "9fae5c39",
   "metadata": {},
   "outputs": [
    {
     "data": {
      "text/plain": [
       "Int64Index([  2996,   6254,  10485,  32518,  36013,  36705,  41926,  44825,\n",
       "             49606,  55044,  57418,  59887,  65497,  77126,  77127,  78506,\n",
       "             80008,  81490,  92674,  93988,  96462,  97720, 103067, 106310,\n",
       "            109798, 112767, 118747, 118748, 142231, 144975, 147519, 148418,\n",
       "            149646, 152015, 159079, 166387, 170528, 170550, 174296, 179078,\n",
       "            181979, 186238, 188933, 191256, 199187, 199488, 208855, 215152,\n",
       "            218131, 219122, 219926, 225995, 225996, 227883, 228312, 228313,\n",
       "            231225, 240984, 241241, 252072, 252920, 254584],\n",
       "           dtype='int64')"
      ]
     },
     "execution_count": 44,
     "metadata": {},
     "output_type": "execute_result"
    }
   ],
   "source": [
    "df_new[df_new['Maximum Open Credit'] > 0.2e7].index"
   ]
  },
  {
   "cell_type": "code",
   "execution_count": 170,
   "id": "03daba83",
   "metadata": {},
   "outputs": [],
   "source": [
    "# the rest of data stays as is"
   ]
  },
  {
   "cell_type": "code",
   "execution_count": 45,
   "id": "86218fbc",
   "metadata": {},
   "outputs": [],
   "source": [
    "for i in range(len(df_new.index)) :\n",
    "    if df_new.iloc[i].isnull().sum()>=1:\n",
    "        print(\"NaN in row \", i , \" : \" ,  df_new.iloc[i].isnull().sum())"
   ]
  },
  {
   "cell_type": "code",
   "execution_count": 46,
   "id": "06629cb2",
   "metadata": {},
   "outputs": [],
   "source": [
    "# there is no NaN left\n",
    "# export result to a csv file:\n",
    "df_new.to_csv('df_new.csv', index=False)"
   ]
  }
 ],
 "metadata": {
  "kernelspec": {
   "display_name": "Python 3",
   "language": "python",
   "name": "python3"
  },
  "language_info": {
   "codemirror_mode": {
    "name": "ipython",
    "version": 3
   },
   "file_extension": ".py",
   "mimetype": "text/x-python",
   "name": "python",
   "nbconvert_exporter": "python",
   "pygments_lexer": "ipython3",
   "version": "3.8.8"
  }
 },
 "nbformat": 4,
 "nbformat_minor": 5
}
